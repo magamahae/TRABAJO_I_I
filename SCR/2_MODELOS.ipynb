{
 "cells": [
  {
   "cell_type": "markdown",
   "metadata": {},
   "source": [
    "# <center>  MODELO  de RECOMENDACION </br>\n",
    "#  <center> de los juegos</center>"
   ]
  },
  {
   "cell_type": "markdown",
   "metadata": {},
   "source": [
    "____________\n",
    "__________"
   ]
  },
  {
   "cell_type": "markdown",
   "metadata": {},
   "source": [
    "Es hora de entrenar nuestro <b><u><i>Modelo de Machine Learning</i></u></b> para armar un sistema de recomendación. Se lleva a cabo la experimentación para desarrollar dos modelos de recomendación capaces de generar listas de '5 juegos'. Estos modelos permiten realizar recomendaciones tanto ingresando el nombre de un juego como el ID de un usuario en Steam.\n",
    "\n",
    "El primer enfoque utiliza un modelo de <b><u><i>relación ítem-ítem</i></u></b>, donde se evalúa la similitud entre juegos para recomendar aquellos que sean más similares al juego de entrada. Por otro lado, el segundo modelo implementa un <b><u><i>filtro user-item</i></u></b>, identificando usuarios similares y recomendando juegos basándose en las preferencias de esos usuarios afines.\n",
    "\n",
    "Ambos modelos adoptan algoritmos basados en la memoria, abordando el problema del filtrado colaborativo al utilizar toda la base de datos. Este enfoque busca encontrar usuarios con preferencias similares al usuario activo para predecir sus valoraciones, ofreciendo así recomendaciones personalizadas y relevantes."
   ]
  },
  {
   "cell_type": "markdown",
   "metadata": {},
   "source": [
    "________\n",
    "________"
   ]
  },
  {
   "cell_type": "markdown",
   "metadata": {},
   "source": [
    "### <center>Importar Librerias</center>"
   ]
  },
  {
   "cell_type": "code",
   "execution_count": 1,
   "metadata": {},
   "outputs": [],
   "source": [
    "import pandas as pd\n",
    "import funciones\n",
    "\n",
    "from sklearn.metrics.pairwise import cosine_similarity\n",
    "from sklearn.feature_extraction.text import CountVectorizer\n",
    "\n",
    "import pandas as pd\n",
    "import os\n",
    "\n",
    "import warnings\n",
    "warnings.filterwarnings(\"ignore\")"
   ]
  },
  {
   "cell_type": "markdown",
   "metadata": {},
   "source": [
    "_____________"
   ]
  },
  {
   "cell_type": "markdown",
   "metadata": {},
   "source": [
    "### <center>Extracción de datos</center>"
   ]
  },
  {
   "cell_type": "markdown",
   "metadata": {},
   "source": [
    " Se procede a la lectura de los datos previamente preparados durante el Análisis Exploratorio de Datos (EDA). Estos datos se transforman en un DataFrame, una estructura tabular que facilita su manipulación y uso por parte del modelo de recomendación."
   ]
  },
  {
   "cell_type": "code",
   "execution_count": 2,
   "metadata": {},
   "outputs": [],
   "source": [
    "# Obtén la ruta completa al archivo CSV desde la ubicación del notebook\n",
    "csv_path = os.path.join('..', 'CSV', 'games_limpio.csv')\n",
    "\n",
    "# Lee el archivo CSV\n",
    "df_games = pd.read_csv(csv_path, encoding='utf-8')"
   ]
  },
  {
   "cell_type": "markdown",
   "metadata": {},
   "source": [
    "___________\n"
   ]
  },
  {
   "cell_type": "markdown",
   "metadata": {},
   "source": [
    "## Se traen ciertas columnas de df_games"
   ]
  },
  {
   "cell_type": "code",
   "execution_count": 3,
   "metadata": {},
   "outputs": [
    {
     "data": {
      "text/html": [
       "<div>\n",
       "<style scoped>\n",
       "    .dataframe tbody tr th:only-of-type {\n",
       "        vertical-align: middle;\n",
       "    }\n",
       "\n",
       "    .dataframe tbody tr th {\n",
       "        vertical-align: top;\n",
       "    }\n",
       "\n",
       "    .dataframe thead th {\n",
       "        text-align: right;\n",
       "    }\n",
       "</style>\n",
       "<table border=\"1\" class=\"dataframe\">\n",
       "  <thead>\n",
       "    <tr style=\"text-align: right;\">\n",
       "      <th></th>\n",
       "      <th>item_id</th>\n",
       "      <th>title</th>\n",
       "      <th>genres</th>\n",
       "    </tr>\n",
       "  </thead>\n",
       "  <tbody>\n",
       "    <tr>\n",
       "      <th>0</th>\n",
       "      <td>761140</td>\n",
       "      <td>Lost Summoner Kitty</td>\n",
       "      <td>Action</td>\n",
       "    </tr>\n",
       "    <tr>\n",
       "      <th>1</th>\n",
       "      <td>761140</td>\n",
       "      <td>Lost Summoner Kitty</td>\n",
       "      <td>Casual</td>\n",
       "    </tr>\n",
       "  </tbody>\n",
       "</table>\n",
       "</div>"
      ],
      "text/plain": [
       "   item_id                title  genres\n",
       "0   761140  Lost Summoner Kitty  Action\n",
       "1   761140  Lost Summoner Kitty  Casual"
      ]
     },
     "execution_count": 3,
     "metadata": {},
     "output_type": "execute_result"
    }
   ],
   "source": [
    "# Se seleccionan las columnas 'item_id', 'title' y 'genres' del DataFrame df_games\n",
    "df_games_d= df_games[['item_id', 'title', 'genres']]\n",
    "\n",
    "# Se visualiza reducidamente\n",
    "df_games_d.head(2)"
   ]
  },
  {
   "cell_type": "code",
   "execution_count": 4,
   "metadata": {},
   "outputs": [
    {
     "data": {
      "text/html": [
       "<div>\n",
       "<style scoped>\n",
       "    .dataframe tbody tr th:only-of-type {\n",
       "        vertical-align: middle;\n",
       "    }\n",
       "\n",
       "    .dataframe tbody tr th {\n",
       "        vertical-align: top;\n",
       "    }\n",
       "\n",
       "    .dataframe thead th {\n",
       "        text-align: right;\n",
       "    }\n",
       "</style>\n",
       "<table border=\"1\" class=\"dataframe\">\n",
       "  <thead>\n",
       "    <tr style=\"text-align: right;\">\n",
       "      <th></th>\n",
       "      <th>title</th>\n",
       "      <th>genres</th>\n",
       "    </tr>\n",
       "  </thead>\n",
       "  <tbody>\n",
       "    <tr>\n",
       "      <th>0</th>\n",
       "      <td>! That Bastard Is Trying To Steal Our Gold !</td>\n",
       "      <td>Action, Adventure, Casual, Indie</td>\n",
       "    </tr>\n",
       "    <tr>\n",
       "      <th>1</th>\n",
       "      <td>\"Barely Attuned Magic Thingy\" Staff</td>\n",
       "      <td>Action, Free to Play, Indie, Massively Multipl...</td>\n",
       "    </tr>\n",
       "    <tr>\n",
       "      <th>2</th>\n",
       "      <td>\"Glow Ball\" - The billiard puzzle game</td>\n",
       "      <td>Casual, Indie, Sports, Strategy</td>\n",
       "    </tr>\n",
       "    <tr>\n",
       "      <th>3</th>\n",
       "      <td>\"Just Another Day\" - Seduce Me Otome CD</td>\n",
       "      <td>Casual, Simulation</td>\n",
       "    </tr>\n",
       "    <tr>\n",
       "      <th>4</th>\n",
       "      <td>\"Lethargic Sentience\" Wand</td>\n",
       "      <td>Action, Free to Play, Indie, Massively Multipl...</td>\n",
       "    </tr>\n",
       "    <tr>\n",
       "      <th>...</th>\n",
       "      <td>...</td>\n",
       "      <td>...</td>\n",
       "    </tr>\n",
       "    <tr>\n",
       "      <th>28822</th>\n",
       "      <td>（尘沙惑设定集）Lost in Secular Love - Concept Design ...</td>\n",
       "      <td>Adventure, Casual, Indie, Simulation</td>\n",
       "    </tr>\n",
       "    <tr>\n",
       "      <th>28823</th>\n",
       "      <td>４人打ちアクション麻雀 / ACTION MAHJONG</td>\n",
       "      <td>Action, Casual, Indie, Early Access</td>\n",
       "    </tr>\n",
       "    <tr>\n",
       "      <th>28824</th>\n",
       "      <td>＜/reality＞</td>\n",
       "      <td>Adventure, Indie</td>\n",
       "    </tr>\n",
       "    <tr>\n",
       "      <th>28825</th>\n",
       "      <td>＜/reality＞ Original Soundtrack</td>\n",
       "      <td>Adventure, Indie</td>\n",
       "    </tr>\n",
       "    <tr>\n",
       "      <th>28826</th>\n",
       "      <td>🔴 Circles</td>\n",
       "      <td>Casual, Indie</td>\n",
       "    </tr>\n",
       "  </tbody>\n",
       "</table>\n",
       "<p>28827 rows × 2 columns</p>\n",
       "</div>"
      ],
      "text/plain": [
       "                                                   title  \\\n",
       "0           ! That Bastard Is Trying To Steal Our Gold !   \n",
       "1                    \"Barely Attuned Magic Thingy\" Staff   \n",
       "2                 \"Glow Ball\" - The billiard puzzle game   \n",
       "3                \"Just Another Day\" - Seduce Me Otome CD   \n",
       "4                             \"Lethargic Sentience\" Wand   \n",
       "...                                                  ...   \n",
       "28822  （尘沙惑设定集）Lost in Secular Love - Concept Design ...   \n",
       "28823                       ４人打ちアクション麻雀 / ACTION MAHJONG   \n",
       "28824                                         ＜/reality＞   \n",
       "28825                     ＜/reality＞ Original Soundtrack   \n",
       "28826                                          🔴 Circles   \n",
       "\n",
       "                                                  genres  \n",
       "0                       Action, Adventure, Casual, Indie  \n",
       "1      Action, Free to Play, Indie, Massively Multipl...  \n",
       "2                        Casual, Indie, Sports, Strategy  \n",
       "3                                     Casual, Simulation  \n",
       "4      Action, Free to Play, Indie, Massively Multipl...  \n",
       "...                                                  ...  \n",
       "28822               Adventure, Casual, Indie, Simulation  \n",
       "28823                Action, Casual, Indie, Early Access  \n",
       "28824                                   Adventure, Indie  \n",
       "28825                                   Adventure, Indie  \n",
       "28826                                      Casual, Indie  \n",
       "\n",
       "[28827 rows x 2 columns]"
      ]
     },
     "execution_count": 4,
     "metadata": {},
     "output_type": "execute_result"
    }
   ],
   "source": [
    "# Se agrupar por título y concatena las entradas de la columna 'genres'\n",
    "df_agrupado = df_games_d.groupby('title')['genres'].apply(lambda x: ', '.join(x)).reset_index()\n",
    "\n",
    "# Se visualiza la tabla\n",
    "df_agrupado"
   ]
  },
  {
   "cell_type": "markdown",
   "metadata": {},
   "source": [
    "____________\n"
   ]
  },
  {
   "cell_type": "markdown",
   "metadata": {},
   "source": [
    "### <center> Verificación de tipos de datos </center>"
   ]
  },
  {
   "cell_type": "code",
   "execution_count": 5,
   "metadata": {},
   "outputs": [
    {
     "data": {
      "text/html": [
       "<div>\n",
       "<style scoped>\n",
       "    .dataframe tbody tr th:only-of-type {\n",
       "        vertical-align: middle;\n",
       "    }\n",
       "\n",
       "    .dataframe tbody tr th {\n",
       "        vertical-align: top;\n",
       "    }\n",
       "\n",
       "    .dataframe thead th {\n",
       "        text-align: right;\n",
       "    }\n",
       "</style>\n",
       "<table border=\"1\" class=\"dataframe\">\n",
       "  <thead>\n",
       "    <tr style=\"text-align: right;\">\n",
       "      <th></th>\n",
       "      <th>Columna</th>\n",
       "      <th>Tipo</th>\n",
       "      <th>NO_nulos_%</th>\n",
       "      <th>Nulos_%</th>\n",
       "      <th>Nulos</th>\n",
       "    </tr>\n",
       "  </thead>\n",
       "  <tbody>\n",
       "    <tr>\n",
       "      <th>0</th>\n",
       "      <td>title</td>\n",
       "      <td>[&lt;class 'str'&gt;]</td>\n",
       "      <td>100.0</td>\n",
       "      <td>0.0</td>\n",
       "      <td>0</td>\n",
       "    </tr>\n",
       "    <tr>\n",
       "      <th>1</th>\n",
       "      <td>genres</td>\n",
       "      <td>[&lt;class 'str'&gt;]</td>\n",
       "      <td>100.0</td>\n",
       "      <td>0.0</td>\n",
       "      <td>0</td>\n",
       "    </tr>\n",
       "  </tbody>\n",
       "</table>\n",
       "</div>"
      ],
      "text/plain": [
       "  Columna             Tipo  NO_nulos_%  Nulos_%  Nulos\n",
       "0   title  [<class 'str'>]       100.0      0.0      0\n",
       "1  genres  [<class 'str'>]       100.0      0.0      0"
      ]
     },
     "execution_count": 5,
     "metadata": {},
     "output_type": "execute_result"
    }
   ],
   "source": [
    "# Se verifican los tipos de datos de las columnas y los nulos\n",
    "funciones.verificar_tipo_datos(df_agrupado)"
   ]
  },
  {
   "cell_type": "markdown",
   "metadata": {},
   "source": [
    "_________"
   ]
  },
  {
   "cell_type": "markdown",
   "metadata": {},
   "source": [
    "### <center> Verificación de duplicados </center>"
   ]
  },
  {
   "cell_type": "code",
   "execution_count": 6,
   "metadata": {},
   "outputs": [
    {
     "name": "stdout",
     "output_type": "stream",
     "text": [
      "No hay filas duplicadas en el DataFrame.\n"
     ]
    }
   ],
   "source": [
    "# Se verificar duplicados\n",
    "hay_duplicados = df_agrupado.duplicated().any()\n",
    "\n",
    "# Imprimir resultado\n",
    "if hay_duplicados:\n",
    "    print(\"Hay filas duplicadas en el DataFrame.\")\n",
    "else:\n",
    "    print(\"No hay filas duplicadas en el DataFrame.\")"
   ]
  },
  {
   "cell_type": "markdown",
   "metadata": {},
   "source": [
    "_________"
   ]
  },
  {
   "cell_type": "markdown",
   "metadata": {},
   "source": [
    "### <center> Generación del modelo </center>"
   ]
  },
  {
   "cell_type": "code",
   "execution_count": 7,
   "metadata": {},
   "outputs": [],
   "source": [
    "# Se crea un objeto CountVectorizer con un límite de 5000 características y se excluyen las palabras comunes en inglés\n",
    "cv = CountVectorizer(max_features = 5000, stop_words=\"english\")"
   ]
  },
  {
   "cell_type": "code",
   "execution_count": 8,
   "metadata": {},
   "outputs": [
    {
     "data": {
      "text/plain": [
       "(28827, 32)"
      ]
     },
     "execution_count": 8,
     "metadata": {},
     "output_type": "execute_result"
    }
   ],
   "source": [
    "# Se aplica el CountVectorizer al conjunto de datos en la columna 'genres' y se transforma en una matriz\n",
    "# La forma resultante se imprime para mostrar el número de filas (documentos) y columnas (características)\n",
    "cv.fit_transform(df_agrupado[\"genres\"]).toarray().shape"
   ]
  },
  {
   "cell_type": "code",
   "execution_count": 9,
   "metadata": {},
   "outputs": [],
   "source": [
    "# Se generan los vectores a comparar \n",
    "cv.fit_transform(df_agrupado[\"genres\"]).toarray().shape\n",
    "vectores = cv.fit_transform(df_agrupado[\"genres\"]).toarray()"
   ]
  },
  {
   "cell_type": "code",
   "execution_count": 10,
   "metadata": {},
   "outputs": [
    {
     "data": {
      "text/plain": [
       "array([[0, 0, 1, ..., 0, 0, 0],\n",
       "       [0, 0, 1, ..., 0, 0, 0],\n",
       "       [0, 0, 0, ..., 0, 0, 0],\n",
       "       ...,\n",
       "       [0, 0, 0, ..., 0, 0, 0],\n",
       "       [0, 0, 0, ..., 0, 0, 0],\n",
       "       [0, 0, 0, ..., 0, 0, 0]], dtype=int64)"
      ]
     },
     "execution_count": 10,
     "metadata": {},
     "output_type": "execute_result"
    }
   ],
   "source": [
    "# Se observan la forma de los vectores\n",
    "vectores"
   ]
  },
  {
   "cell_type": "code",
   "execution_count": 11,
   "metadata": {},
   "outputs": [],
   "source": [
    "# Se aplica la similitud del coseno a nuestros vectores\n",
    "similitud = cosine_similarity(vectores)"
   ]
  },
  {
   "cell_type": "code",
   "execution_count": 12,
   "metadata": {},
   "outputs": [
    {
     "data": {
      "text/plain": [
       "array([1.        , 0.37796447, 0.5       , ..., 0.70710678, 0.70710678,\n",
       "       0.70710678])"
      ]
     },
     "execution_count": 12,
     "metadata": {},
     "output_type": "execute_result"
    }
   ],
   "source": [
    "# Se obtiene el array de similitud\n",
    "similitud[0]"
   ]
  },
  {
   "cell_type": "code",
   "execution_count": 13,
   "metadata": {},
   "outputs": [
    {
     "data": {
      "text/plain": [
       "[(152, 1.0), (306, 1.0), (488, 1.0), (628, 1.0), (629, 1.0)]"
      ]
     },
     "execution_count": 13,
     "metadata": {},
     "output_type": "execute_result"
    }
   ],
   "source": [
    "# Se ordena la similitud entre más similar a menos similar tomando 5 valores\n",
    "sorted(list(enumerate(similitud[0])), reverse=True, key=lambda x:x[1])[1:6]"
   ]
  },
  {
   "cell_type": "code",
   "execution_count": 14,
   "metadata": {},
   "outputs": [],
   "source": [
    "# Se genera una funcion que te da la recomendación por título\n",
    "def recomendacion(game):\n",
    "    indice_juegos = df_agrupado[df_agrupado[\"title\"]==game].index[0]\n",
    "    distances = similitud[indice_juegos]\n",
    "    lista_juegos = sorted(list(enumerate(distances)), reverse=True, key=lambda x: x[1])[1:6]\n",
    "    recommended_titles = [df_agrupado.iloc[i[0]]['title'] for i in lista_juegos]\n",
    "    return recommended_titles"
   ]
  },
  {
   "cell_type": "markdown",
   "metadata": {},
   "source": [
    "_______________________"
   ]
  },
  {
   "cell_type": "markdown",
   "metadata": {},
   "source": [
    "### <center> Comprobación del funcionamiento del modelo</center>"
   ]
  },
  {
   "cell_type": "code",
   "execution_count": null,
   "metadata": {},
   "outputs": [],
   "source": [
    "# Se prueba la función \n",
    "recomendacion('\"Glow Ball\" - The billiard puzzle game')"
   ]
  },
  {
   "cell_type": "markdown",
   "metadata": {},
   "source": [
    "____________________"
   ]
  },
  {
   "cell_type": "markdown",
   "metadata": {},
   "source": [
    "### <center> Creación de un dataframe \n",
    "### <center>para ser consumido en la API con menor capacidad</center>"
   ]
  },
  {
   "cell_type": "code",
   "execution_count": null,
   "metadata": {},
   "outputs": [],
   "source": [
    "# Se crea una nueva columna 'recomendaciones' en el DataFrame df_agrupado\n",
    "# Se aplica la función recomendación a la columna 'title' para obtener recomendaciones y almacenarlas en la nueva columna\n",
    "df_agrupado['recomendaciones'] = df_agrupado['title'].apply(recomendacion)"
   ]
  },
  {
   "cell_type": "code",
   "execution_count": null,
   "metadata": {},
   "outputs": [],
   "source": [
    "# Se visualiza la tabla generada\n",
    "df_agrupado"
   ]
  },
  {
   "cell_type": "code",
   "execution_count": null,
   "metadata": {},
   "outputs": [],
   "source": [
    "# Se elimina columna que no es necesaria\n",
    "df_modelado = df_agrupado[['title', 'recomendaciones']]\n",
    "\n",
    "# Se vuelve a visualizar el dataframe\n",
    "df_modelado"
   ]
  },
  {
   "cell_type": "code",
   "execution_count": null,
   "metadata": {},
   "outputs": [],
   "source": [
    "# Se trae del df_games el ' item_id y el 'title'\n",
    "df_agregar= df_games[['item_id', 'title']]\n",
    "\n",
    "# Se visualiza el df creado\n",
    "df_agregar"
   ]
  },
  {
   "cell_type": "code",
   "execution_count": null,
   "metadata": {},
   "outputs": [],
   "source": [
    "#Se consulta los duplicados\n",
    "duplicates_modelado = df_agregar[df_agregar['title'].duplicated()]\n",
    "\n",
    "# Se visualizan los duplicados\n",
    "duplicates_modelado"
   ]
  },
  {
   "cell_type": "code",
   "execution_count": null,
   "metadata": {},
   "outputs": [],
   "source": [
    "# Se elimina duplicados en df_agregar basados en la columna 'title'\n",
    "df_agregar = df_agregar.drop_duplicates(subset='title', keep='first')\n",
    "\n",
    "#Se visualiza el df\n",
    "df_agregar"
   ]
  },
  {
   "cell_type": "code",
   "execution_count": null,
   "metadata": {},
   "outputs": [],
   "source": [
    "# Se realiza la unión de las tablas\n",
    "df_merged_1 = pd.merge(df_modelado, df_agregar[['item_id', 'title' ]], on='title', how='left')"
   ]
  },
  {
   "cell_type": "code",
   "execution_count": null,
   "metadata": {},
   "outputs": [],
   "source": [
    "# Se  selecciona solo las columnas relevantes\n",
    "df_modelado = df_merged_1[['title', 'recomendaciones', 'item_id']]\n",
    "\n",
    "# Se cuentan los valores que tiene\n",
    "df_modelado.count()"
   ]
  },
  {
   "cell_type": "code",
   "execution_count": null,
   "metadata": {},
   "outputs": [],
   "source": [
    "# SE verifican los datos\n",
    "funciones.verificar_tipo_datos(df_modelado)"
   ]
  },
  {
   "cell_type": "markdown",
   "metadata": {},
   "source": [
    "_______________\n"
   ]
  },
  {
   "cell_type": "markdown",
   "metadata": {},
   "source": [
    "### <center> Se guarda en un archivo PARQUET</center>\n",
    " ### <center>para ser consumido por la API </center>"
   ]
  },
  {
   "cell_type": "code",
   "execution_count": null,
   "metadata": {},
   "outputs": [],
   "source": [
    "#Se construye la ruta completa al archivo DATA desde la ubicación del notebook\n",
    "modelo = os.path.join('..', 'DATA', 'modelo_rec.parquet')\n",
    "\n",
    "# Guarda el DataFrame en el archivo PARQUET\n",
    "df_modelado.to_parquet(modelo)\n",
    "\n",
    "print(f'Se guardó el archivo {modelo}')"
   ]
  },
  {
   "cell_type": "markdown",
   "metadata": {},
   "source": [
    "_____________________\n",
    "______________"
   ]
  },
  {
   "cell_type": "markdown",
   "metadata": {},
   "source": [
    "### <center> Se verifica el funcionamiento\n",
    "### <center> del consumo del PARQUET \n",
    "### <center>y de la función a deployar"
   ]
  },
  {
   "cell_type": "code",
   "execution_count": null,
   "metadata": {},
   "outputs": [],
   "source": [
    "# Se lee el archivo PARQUET\n",
    "modelo = os.path.join('..', 'DATA', 'modelo_rec.parquet')\n",
    "df=pd.read_parquet(modelo)\n",
    "\n",
    "#Se  ve el contenido en un dataframe\n",
    "df"
   ]
  },
  {
   "cell_type": "markdown",
   "metadata": {},
   "source": [
    "### Función a deployar"
   ]
  },
  {
   "cell_type": "code",
   "execution_count": null,
   "metadata": {},
   "outputs": [],
   "source": [
    "from fastapi.responses import JSONResponse\n",
    "\n",
    "\n",
    "def recomendacion_juego(id_producto: int):\n",
    "    recomendaciones = df[df['item_id'] == id_producto]['recomendaciones'].iloc[0]\n",
    "    \n",
    "    # Verificar si la lista de recomendaciones no está vacía\n",
    "    if len(recomendaciones) > 0:\n",
    "        recomendaciones_dict = {i + 1: juego for i, juego in enumerate(recomendaciones)}\n",
    "        return recomendaciones_dict\n",
    "    else:\n",
    "        # Si no se encontraron recomendaciones para el ID, devolver un mensaje de error\n",
    "        error_data = {'error': 'No se encontraron recomendaciones para el ID proporcionado'}\n",
    "        return JSONResponse(content=error_data, status_code=404)"
   ]
  },
  {
   "cell_type": "markdown",
   "metadata": {},
   "source": [
    "### Respuesta obtenida"
   ]
  },
  {
   "cell_type": "code",
   "execution_count": null,
   "metadata": {},
   "outputs": [],
   "source": [
    "recomendacion_juego(449940)"
   ]
  },
  {
   "cell_type": "markdown",
   "metadata": {},
   "source": [
    "### <center> FUNCIONA PERFECTO!!!</center>"
   ]
  },
  {
   "cell_type": "markdown",
   "metadata": {},
   "source": [
    "______________\n",
    "___________\n"
   ]
  },
  {
   "cell_type": "code",
   "execution_count": null,
   "metadata": {},
   "outputs": [],
   "source": []
  },
  {
   "cell_type": "markdown",
   "metadata": {},
   "source": [
    "___________\n",
    "____________\n",
    "___________\n",
    "___________"
   ]
  },
  {
   "cell_type": "code",
   "execution_count": 20,
   "metadata": {},
   "outputs": [
    {
     "data": {
      "text/plain": [
       "48498"
      ]
     },
     "execution_count": 20,
     "metadata": {},
     "output_type": "execute_result"
    }
   ],
   "source": [
    "# Se obtiene la ruta completa al archivo CSV desde la ubicación del notebook\n",
    "csv_path = os.path.join('..', 'CSV', 'reviews_limpio.csv')\n",
    "\n",
    "# Se lee el archivo CSV\n",
    "df_reviews = pd.read_csv(csv_path, encoding='utf-8')\n",
    "df_reviews=df_reviews[['item_id', 'user_id']]\n",
    "df_reviews.shape[0]"
   ]
  },
  {
   "cell_type": "code",
   "execution_count": 97,
   "metadata": {},
   "outputs": [
    {
     "data": {
      "text/plain": [
       "71551"
      ]
     },
     "execution_count": 97,
     "metadata": {},
     "output_type": "execute_result"
    }
   ],
   "source": [
    "# Se obtiene la ruta completa al archivo CSV desde la ubicación del notebook\n",
    "csv_path = os.path.join('..', 'CSV', 'games_limpio.csv')\n",
    "\n",
    "# Se lee el archivo CSV\n",
    "df_games = pd.read_csv(csv_path, encoding='utf-8')\n",
    "df_games=df_games[['item_id', 'genres']]\n",
    "df_games.shape[0]"
   ]
  },
  {
   "cell_type": "code",
   "execution_count": null,
   "metadata": {},
   "outputs": [],
   "source": [
    "df_games_id= df_games[['item_id', 'title']]"
   ]
  },
  {
   "cell_type": "code",
   "execution_count": null,
   "metadata": {},
   "outputs": [],
   "source": [
    "df_agrupado = df_agrupado.merge(df_games_id, on='title', how='left')\n",
    "\n",
    "df_agrupado"
   ]
  },
  {
   "cell_type": "code",
   "execution_count": null,
   "metadata": {},
   "outputs": [],
   "source": [
    "filas_duplicadas = df_agrupado[df_agrupado.duplicated()]\n",
    "print(filas_duplicadas)"
   ]
  },
  {
   "cell_type": "code",
   "execution_count": null,
   "metadata": {},
   "outputs": [],
   "source": [
    "df_sin_duplicados = df_agrupado.drop_duplicates(subset=['item_id'])\n",
    "df_sin_duplicados"
   ]
  },
  {
   "cell_type": "code",
   "execution_count": null,
   "metadata": {},
   "outputs": [],
   "source": [
    "df_combinado = pd.merge(df_sin_duplicados, df_reviews[['item_id', 'user_id']], on='item_id', how='left')\n",
    "df_agrupado"
   ]
  },
  {
   "cell_type": "markdown",
   "metadata": {},
   "source": [
    "_________________________"
   ]
  },
  {
   "cell_type": "code",
   "execution_count": 13,
   "metadata": {},
   "outputs": [
    {
     "data": {
      "text/html": [
       "<div>\n",
       "<style scoped>\n",
       "    .dataframe tbody tr th:only-of-type {\n",
       "        vertical-align: middle;\n",
       "    }\n",
       "\n",
       "    .dataframe tbody tr th {\n",
       "        vertical-align: top;\n",
       "    }\n",
       "\n",
       "    .dataframe thead th {\n",
       "        text-align: right;\n",
       "    }\n",
       "</style>\n",
       "<table border=\"1\" class=\"dataframe\">\n",
       "  <thead>\n",
       "    <tr style=\"text-align: right;\">\n",
       "      <th></th>\n",
       "      <th>title</th>\n",
       "      <th>genres</th>\n",
       "    </tr>\n",
       "  </thead>\n",
       "  <tbody>\n",
       "    <tr>\n",
       "      <th>0</th>\n",
       "      <td>! That Bastard Is Trying To Steal Our Gold !</td>\n",
       "      <td>Action, Adventure, Casual, Indie</td>\n",
       "    </tr>\n",
       "    <tr>\n",
       "      <th>1</th>\n",
       "      <td>\"Barely Attuned Magic Thingy\" Staff</td>\n",
       "      <td>Action, Free to Play, Indie, Massively Multipl...</td>\n",
       "    </tr>\n",
       "    <tr>\n",
       "      <th>2</th>\n",
       "      <td>\"Glow Ball\" - The billiard puzzle game</td>\n",
       "      <td>Casual, Indie, Sports, Strategy</td>\n",
       "    </tr>\n",
       "    <tr>\n",
       "      <th>3</th>\n",
       "      <td>\"Just Another Day\" - Seduce Me Otome CD</td>\n",
       "      <td>Casual, Simulation</td>\n",
       "    </tr>\n",
       "    <tr>\n",
       "      <th>4</th>\n",
       "      <td>\"Lethargic Sentience\" Wand</td>\n",
       "      <td>Action, Free to Play, Indie, Massively Multipl...</td>\n",
       "    </tr>\n",
       "    <tr>\n",
       "      <th>...</th>\n",
       "      <td>...</td>\n",
       "      <td>...</td>\n",
       "    </tr>\n",
       "    <tr>\n",
       "      <th>28822</th>\n",
       "      <td>（尘沙惑设定集）Lost in Secular Love - Concept Design ...</td>\n",
       "      <td>Adventure, Casual, Indie, Simulation</td>\n",
       "    </tr>\n",
       "    <tr>\n",
       "      <th>28823</th>\n",
       "      <td>４人打ちアクション麻雀 / ACTION MAHJONG</td>\n",
       "      <td>Action, Casual, Indie, Early Access</td>\n",
       "    </tr>\n",
       "    <tr>\n",
       "      <th>28824</th>\n",
       "      <td>＜/reality＞</td>\n",
       "      <td>Adventure, Indie</td>\n",
       "    </tr>\n",
       "    <tr>\n",
       "      <th>28825</th>\n",
       "      <td>＜/reality＞ Original Soundtrack</td>\n",
       "      <td>Adventure, Indie</td>\n",
       "    </tr>\n",
       "    <tr>\n",
       "      <th>28826</th>\n",
       "      <td>🔴 Circles</td>\n",
       "      <td>Casual, Indie</td>\n",
       "    </tr>\n",
       "  </tbody>\n",
       "</table>\n",
       "<p>28827 rows × 2 columns</p>\n",
       "</div>"
      ],
      "text/plain": [
       "                                                   title  \\\n",
       "0           ! That Bastard Is Trying To Steal Our Gold !   \n",
       "1                    \"Barely Attuned Magic Thingy\" Staff   \n",
       "2                 \"Glow Ball\" - The billiard puzzle game   \n",
       "3                \"Just Another Day\" - Seduce Me Otome CD   \n",
       "4                             \"Lethargic Sentience\" Wand   \n",
       "...                                                  ...   \n",
       "28822  （尘沙惑设定集）Lost in Secular Love - Concept Design ...   \n",
       "28823                       ４人打ちアクション麻雀 / ACTION MAHJONG   \n",
       "28824                                         ＜/reality＞   \n",
       "28825                     ＜/reality＞ Original Soundtrack   \n",
       "28826                                          🔴 Circles   \n",
       "\n",
       "                                                  genres  \n",
       "0                       Action, Adventure, Casual, Indie  \n",
       "1      Action, Free to Play, Indie, Massively Multipl...  \n",
       "2                        Casual, Indie, Sports, Strategy  \n",
       "3                                     Casual, Simulation  \n",
       "4      Action, Free to Play, Indie, Massively Multipl...  \n",
       "...                                                  ...  \n",
       "28822               Adventure, Casual, Indie, Simulation  \n",
       "28823                Action, Casual, Indie, Early Access  \n",
       "28824                                   Adventure, Indie  \n",
       "28825                                   Adventure, Indie  \n",
       "28826                                      Casual, Indie  \n",
       "\n",
       "[28827 rows x 2 columns]"
      ]
     },
     "execution_count": 13,
     "metadata": {},
     "output_type": "execute_result"
    }
   ],
   "source": [
    "df_agrupado"
   ]
  },
  {
   "cell_type": "markdown",
   "metadata": {},
   "source": [
    "____________________________________________________\n",
    "USUARIO"
   ]
  },
  {
   "cell_type": "code",
   "execution_count": 16,
   "metadata": {},
   "outputs": [
    {
     "data": {
      "text/html": [
       "<div>\n",
       "<style scoped>\n",
       "    .dataframe tbody tr th:only-of-type {\n",
       "        vertical-align: middle;\n",
       "    }\n",
       "\n",
       "    .dataframe tbody tr th {\n",
       "        vertical-align: top;\n",
       "    }\n",
       "\n",
       "    .dataframe thead th {\n",
       "        text-align: right;\n",
       "    }\n",
       "</style>\n",
       "<table border=\"1\" class=\"dataframe\">\n",
       "  <thead>\n",
       "    <tr style=\"text-align: right;\">\n",
       "      <th></th>\n",
       "      <th>title</th>\n",
       "      <th>genres</th>\n",
       "      <th>item_id</th>\n",
       "    </tr>\n",
       "  </thead>\n",
       "  <tbody>\n",
       "    <tr>\n",
       "      <th>0</th>\n",
       "      <td>! That Bastard Is Trying To Steal Our Gold !</td>\n",
       "      <td>Action, Adventure, Casual, Indie</td>\n",
       "      <td>449940</td>\n",
       "    </tr>\n",
       "    <tr>\n",
       "      <th>1</th>\n",
       "      <td>! That Bastard Is Trying To Steal Our Gold !</td>\n",
       "      <td>Action, Adventure, Casual, Indie</td>\n",
       "      <td>449940</td>\n",
       "    </tr>\n",
       "    <tr>\n",
       "      <th>2</th>\n",
       "      <td>! That Bastard Is Trying To Steal Our Gold !</td>\n",
       "      <td>Action, Adventure, Casual, Indie</td>\n",
       "      <td>449940</td>\n",
       "    </tr>\n",
       "    <tr>\n",
       "      <th>3</th>\n",
       "      <td>! That Bastard Is Trying To Steal Our Gold !</td>\n",
       "      <td>Action, Adventure, Casual, Indie</td>\n",
       "      <td>449940</td>\n",
       "    </tr>\n",
       "    <tr>\n",
       "      <th>4</th>\n",
       "      <td>\"Barely Attuned Magic Thingy\" Staff</td>\n",
       "      <td>Action, Free to Play, Indie, Massively Multipl...</td>\n",
       "      <td>308163</td>\n",
       "    </tr>\n",
       "    <tr>\n",
       "      <th>...</th>\n",
       "      <td>...</td>\n",
       "      <td>...</td>\n",
       "      <td>...</td>\n",
       "    </tr>\n",
       "    <tr>\n",
       "      <th>71544</th>\n",
       "      <td>＜/reality＞</td>\n",
       "      <td>Adventure, Indie</td>\n",
       "      <td>562280</td>\n",
       "    </tr>\n",
       "    <tr>\n",
       "      <th>71545</th>\n",
       "      <td>＜/reality＞ Original Soundtrack</td>\n",
       "      <td>Adventure, Indie</td>\n",
       "      <td>626850</td>\n",
       "    </tr>\n",
       "    <tr>\n",
       "      <th>71546</th>\n",
       "      <td>＜/reality＞ Original Soundtrack</td>\n",
       "      <td>Adventure, Indie</td>\n",
       "      <td>626850</td>\n",
       "    </tr>\n",
       "    <tr>\n",
       "      <th>71547</th>\n",
       "      <td>🔴 Circles</td>\n",
       "      <td>Casual, Indie</td>\n",
       "      <td>460250</td>\n",
       "    </tr>\n",
       "    <tr>\n",
       "      <th>71548</th>\n",
       "      <td>🔴 Circles</td>\n",
       "      <td>Casual, Indie</td>\n",
       "      <td>460250</td>\n",
       "    </tr>\n",
       "  </tbody>\n",
       "</table>\n",
       "<p>71549 rows × 3 columns</p>\n",
       "</div>"
      ],
      "text/plain": [
       "                                              title  \\\n",
       "0      ! That Bastard Is Trying To Steal Our Gold !   \n",
       "1      ! That Bastard Is Trying To Steal Our Gold !   \n",
       "2      ! That Bastard Is Trying To Steal Our Gold !   \n",
       "3      ! That Bastard Is Trying To Steal Our Gold !   \n",
       "4               \"Barely Attuned Magic Thingy\" Staff   \n",
       "...                                             ...   \n",
       "71544                                    ＜/reality＞   \n",
       "71545                ＜/reality＞ Original Soundtrack   \n",
       "71546                ＜/reality＞ Original Soundtrack   \n",
       "71547                                     🔴 Circles   \n",
       "71548                                     🔴 Circles   \n",
       "\n",
       "                                                  genres  item_id  \n",
       "0                       Action, Adventure, Casual, Indie   449940  \n",
       "1                       Action, Adventure, Casual, Indie   449940  \n",
       "2                       Action, Adventure, Casual, Indie   449940  \n",
       "3                       Action, Adventure, Casual, Indie   449940  \n",
       "4      Action, Free to Play, Indie, Massively Multipl...   308163  \n",
       "...                                                  ...      ...  \n",
       "71544                                   Adventure, Indie   562280  \n",
       "71545                                   Adventure, Indie   626850  \n",
       "71546                                   Adventure, Indie   626850  \n",
       "71547                                      Casual, Indie   460250  \n",
       "71548                                      Casual, Indie   460250  \n",
       "\n",
       "[71549 rows x 3 columns]"
      ]
     },
     "execution_count": 16,
     "metadata": {},
     "output_type": "execute_result"
    }
   ],
   "source": [
    "# Se agrupa por título y concatena las entradas de la columna 'genres'\n",
    "df_agrupado1 = df_games_d.groupby('title')['genres'].apply(lambda x: ', '.join(x)).reset_index()\n",
    "\n",
    "# Vuelve a incorporar la columna 'item_id' al DataFrame df_agrupado\n",
    "df_agrupado1 = pd.merge(df_agrupado, df_games_d[['title', 'item_id']], on='title', how='left')\n",
    "df_agrupado1"
   ]
  },
  {
   "cell_type": "code",
   "execution_count": 17,
   "metadata": {},
   "outputs": [
    {
     "data": {
      "text/html": [
       "<div>\n",
       "<style scoped>\n",
       "    .dataframe tbody tr th:only-of-type {\n",
       "        vertical-align: middle;\n",
       "    }\n",
       "\n",
       "    .dataframe tbody tr th {\n",
       "        vertical-align: top;\n",
       "    }\n",
       "\n",
       "    .dataframe thead th {\n",
       "        text-align: right;\n",
       "    }\n",
       "</style>\n",
       "<table border=\"1\" class=\"dataframe\">\n",
       "  <thead>\n",
       "    <tr style=\"text-align: right;\">\n",
       "      <th></th>\n",
       "      <th>title</th>\n",
       "      <th>genres</th>\n",
       "      <th>item_id</th>\n",
       "    </tr>\n",
       "  </thead>\n",
       "  <tbody>\n",
       "    <tr>\n",
       "      <th>0</th>\n",
       "      <td>! That Bastard Is Trying To Steal Our Gold !</td>\n",
       "      <td>Action, Adventure, Casual, Indie</td>\n",
       "      <td>449940</td>\n",
       "    </tr>\n",
       "    <tr>\n",
       "      <th>4</th>\n",
       "      <td>\"Barely Attuned Magic Thingy\" Staff</td>\n",
       "      <td>Action, Free to Play, Indie, Massively Multipl...</td>\n",
       "      <td>308163</td>\n",
       "    </tr>\n",
       "    <tr>\n",
       "      <th>9</th>\n",
       "      <td>\"Glow Ball\" - The billiard puzzle game</td>\n",
       "      <td>Casual, Indie, Sports, Strategy</td>\n",
       "      <td>388390</td>\n",
       "    </tr>\n",
       "    <tr>\n",
       "      <th>13</th>\n",
       "      <td>\"Just Another Day\" - Seduce Me Otome CD</td>\n",
       "      <td>Casual, Simulation</td>\n",
       "      <td>454790</td>\n",
       "    </tr>\n",
       "    <tr>\n",
       "      <th>15</th>\n",
       "      <td>\"Lethargic Sentience\" Wand</td>\n",
       "      <td>Action, Free to Play, Indie, Massively Multipl...</td>\n",
       "      <td>308164</td>\n",
       "    </tr>\n",
       "    <tr>\n",
       "      <th>...</th>\n",
       "      <td>...</td>\n",
       "      <td>...</td>\n",
       "      <td>...</td>\n",
       "    </tr>\n",
       "    <tr>\n",
       "      <th>71535</th>\n",
       "      <td>（尘沙惑设定集）Lost in Secular Love - Concept Design ...</td>\n",
       "      <td>Adventure, Casual, Indie, Simulation</td>\n",
       "      <td>541220</td>\n",
       "    </tr>\n",
       "    <tr>\n",
       "      <th>71539</th>\n",
       "      <td>４人打ちアクション麻雀 / ACTION MAHJONG</td>\n",
       "      <td>Action, Casual, Indie, Early Access</td>\n",
       "      <td>575810</td>\n",
       "    </tr>\n",
       "    <tr>\n",
       "      <th>71543</th>\n",
       "      <td>＜/reality＞</td>\n",
       "      <td>Adventure, Indie</td>\n",
       "      <td>562280</td>\n",
       "    </tr>\n",
       "    <tr>\n",
       "      <th>71545</th>\n",
       "      <td>＜/reality＞ Original Soundtrack</td>\n",
       "      <td>Adventure, Indie</td>\n",
       "      <td>626850</td>\n",
       "    </tr>\n",
       "    <tr>\n",
       "      <th>71547</th>\n",
       "      <td>🔴 Circles</td>\n",
       "      <td>Casual, Indie</td>\n",
       "      <td>460250</td>\n",
       "    </tr>\n",
       "  </tbody>\n",
       "</table>\n",
       "<p>28849 rows × 3 columns</p>\n",
       "</div>"
      ],
      "text/plain": [
       "                                                   title  \\\n",
       "0           ! That Bastard Is Trying To Steal Our Gold !   \n",
       "4                    \"Barely Attuned Magic Thingy\" Staff   \n",
       "9                 \"Glow Ball\" - The billiard puzzle game   \n",
       "13               \"Just Another Day\" - Seduce Me Otome CD   \n",
       "15                            \"Lethargic Sentience\" Wand   \n",
       "...                                                  ...   \n",
       "71535  （尘沙惑设定集）Lost in Secular Love - Concept Design ...   \n",
       "71539                       ４人打ちアクション麻雀 / ACTION MAHJONG   \n",
       "71543                                         ＜/reality＞   \n",
       "71545                     ＜/reality＞ Original Soundtrack   \n",
       "71547                                          🔴 Circles   \n",
       "\n",
       "                                                  genres  item_id  \n",
       "0                       Action, Adventure, Casual, Indie   449940  \n",
       "4      Action, Free to Play, Indie, Massively Multipl...   308163  \n",
       "9                        Casual, Indie, Sports, Strategy   388390  \n",
       "13                                    Casual, Simulation   454790  \n",
       "15     Action, Free to Play, Indie, Massively Multipl...   308164  \n",
       "...                                                  ...      ...  \n",
       "71535               Adventure, Casual, Indie, Simulation   541220  \n",
       "71539                Action, Casual, Indie, Early Access   575810  \n",
       "71543                                   Adventure, Indie   562280  \n",
       "71545                                   Adventure, Indie   626850  \n",
       "71547                                      Casual, Indie   460250  \n",
       "\n",
       "[28849 rows x 3 columns]"
      ]
     },
     "execution_count": 17,
     "metadata": {},
     "output_type": "execute_result"
    }
   ],
   "source": [
    "df_agrupado1_sin_duplicados = df_agrupado1.drop_duplicates(subset=['title', 'genres', 'item_id'])\n",
    "df_agrupado1_sin_duplicados"
   ]
  },
  {
   "cell_type": "code",
   "execution_count": 18,
   "metadata": {},
   "outputs": [
    {
     "data": {
      "text/html": [
       "<div>\n",
       "<style scoped>\n",
       "    .dataframe tbody tr th:only-of-type {\n",
       "        vertical-align: middle;\n",
       "    }\n",
       "\n",
       "    .dataframe tbody tr th {\n",
       "        vertical-align: top;\n",
       "    }\n",
       "\n",
       "    .dataframe thead th {\n",
       "        text-align: right;\n",
       "    }\n",
       "</style>\n",
       "<table border=\"1\" class=\"dataframe\">\n",
       "  <thead>\n",
       "    <tr style=\"text-align: right;\">\n",
       "      <th></th>\n",
       "      <th>Columna</th>\n",
       "      <th>Tipo</th>\n",
       "      <th>NO_nulos_%</th>\n",
       "      <th>Nulos_%</th>\n",
       "      <th>Nulos</th>\n",
       "    </tr>\n",
       "  </thead>\n",
       "  <tbody>\n",
       "    <tr>\n",
       "      <th>0</th>\n",
       "      <td>title</td>\n",
       "      <td>[&lt;class 'str'&gt;]</td>\n",
       "      <td>100.0</td>\n",
       "      <td>0.0</td>\n",
       "      <td>0</td>\n",
       "    </tr>\n",
       "    <tr>\n",
       "      <th>1</th>\n",
       "      <td>genres</td>\n",
       "      <td>[&lt;class 'str'&gt;]</td>\n",
       "      <td>100.0</td>\n",
       "      <td>0.0</td>\n",
       "      <td>0</td>\n",
       "    </tr>\n",
       "    <tr>\n",
       "      <th>2</th>\n",
       "      <td>item_id</td>\n",
       "      <td>[&lt;class 'int'&gt;]</td>\n",
       "      <td>100.0</td>\n",
       "      <td>0.0</td>\n",
       "      <td>0</td>\n",
       "    </tr>\n",
       "  </tbody>\n",
       "</table>\n",
       "</div>"
      ],
      "text/plain": [
       "   Columna             Tipo  NO_nulos_%  Nulos_%  Nulos\n",
       "0    title  [<class 'str'>]       100.0      0.0      0\n",
       "1   genres  [<class 'str'>]       100.0      0.0      0\n",
       "2  item_id  [<class 'int'>]       100.0      0.0      0"
      ]
     },
     "execution_count": 18,
     "metadata": {},
     "output_type": "execute_result"
    }
   ],
   "source": [
    "funciones.verificar_tipo_datos(df_agrupado1)"
   ]
  },
  {
   "cell_type": "code",
   "execution_count": 21,
   "metadata": {},
   "outputs": [
    {
     "data": {
      "text/html": [
       "<div>\n",
       "<style scoped>\n",
       "    .dataframe tbody tr th:only-of-type {\n",
       "        vertical-align: middle;\n",
       "    }\n",
       "\n",
       "    .dataframe tbody tr th {\n",
       "        vertical-align: top;\n",
       "    }\n",
       "\n",
       "    .dataframe thead th {\n",
       "        text-align: right;\n",
       "    }\n",
       "</style>\n",
       "<table border=\"1\" class=\"dataframe\">\n",
       "  <thead>\n",
       "    <tr style=\"text-align: right;\">\n",
       "      <th></th>\n",
       "      <th>title</th>\n",
       "      <th>genres</th>\n",
       "      <th>item_id</th>\n",
       "      <th>user_id</th>\n",
       "    </tr>\n",
       "  </thead>\n",
       "  <tbody>\n",
       "    <tr>\n",
       "      <th>0</th>\n",
       "      <td>! That Bastard Is Trying To Steal Our Gold !</td>\n",
       "      <td>Action, Adventure, Casual, Indie</td>\n",
       "      <td>449940</td>\n",
       "      <td>NaN</td>\n",
       "    </tr>\n",
       "    <tr>\n",
       "      <th>1</th>\n",
       "      <td>\"Barely Attuned Magic Thingy\" Staff</td>\n",
       "      <td>Action, Free to Play, Indie, Massively Multipl...</td>\n",
       "      <td>308163</td>\n",
       "      <td>NaN</td>\n",
       "    </tr>\n",
       "    <tr>\n",
       "      <th>2</th>\n",
       "      <td>\"Glow Ball\" - The billiard puzzle game</td>\n",
       "      <td>Casual, Indie, Sports, Strategy</td>\n",
       "      <td>388390</td>\n",
       "      <td>NaN</td>\n",
       "    </tr>\n",
       "    <tr>\n",
       "      <th>3</th>\n",
       "      <td>\"Just Another Day\" - Seduce Me Otome CD</td>\n",
       "      <td>Casual, Simulation</td>\n",
       "      <td>454790</td>\n",
       "      <td>NaN</td>\n",
       "    </tr>\n",
       "    <tr>\n",
       "      <th>4</th>\n",
       "      <td>\"Lethargic Sentience\" Wand</td>\n",
       "      <td>Action, Free to Play, Indie, Massively Multipl...</td>\n",
       "      <td>308164</td>\n",
       "      <td>NaN</td>\n",
       "    </tr>\n",
       "    <tr>\n",
       "      <th>...</th>\n",
       "      <td>...</td>\n",
       "      <td>...</td>\n",
       "      <td>...</td>\n",
       "      <td>...</td>\n",
       "    </tr>\n",
       "    <tr>\n",
       "      <th>67498</th>\n",
       "      <td>（尘沙惑设定集）Lost in Secular Love - Concept Design ...</td>\n",
       "      <td>Adventure, Casual, Indie, Simulation</td>\n",
       "      <td>541220</td>\n",
       "      <td>NaN</td>\n",
       "    </tr>\n",
       "    <tr>\n",
       "      <th>67499</th>\n",
       "      <td>４人打ちアクション麻雀 / ACTION MAHJONG</td>\n",
       "      <td>Action, Casual, Indie, Early Access</td>\n",
       "      <td>575810</td>\n",
       "      <td>NaN</td>\n",
       "    </tr>\n",
       "    <tr>\n",
       "      <th>67500</th>\n",
       "      <td>＜/reality＞</td>\n",
       "      <td>Adventure, Indie</td>\n",
       "      <td>562280</td>\n",
       "      <td>NaN</td>\n",
       "    </tr>\n",
       "    <tr>\n",
       "      <th>67501</th>\n",
       "      <td>＜/reality＞ Original Soundtrack</td>\n",
       "      <td>Adventure, Indie</td>\n",
       "      <td>626850</td>\n",
       "      <td>NaN</td>\n",
       "    </tr>\n",
       "    <tr>\n",
       "      <th>67502</th>\n",
       "      <td>🔴 Circles</td>\n",
       "      <td>Casual, Indie</td>\n",
       "      <td>460250</td>\n",
       "      <td>NaN</td>\n",
       "    </tr>\n",
       "  </tbody>\n",
       "</table>\n",
       "<p>67503 rows × 4 columns</p>\n",
       "</div>"
      ],
      "text/plain": [
       "                                                   title  \\\n",
       "0           ! That Bastard Is Trying To Steal Our Gold !   \n",
       "1                    \"Barely Attuned Magic Thingy\" Staff   \n",
       "2                 \"Glow Ball\" - The billiard puzzle game   \n",
       "3                \"Just Another Day\" - Seduce Me Otome CD   \n",
       "4                             \"Lethargic Sentience\" Wand   \n",
       "...                                                  ...   \n",
       "67498  （尘沙惑设定集）Lost in Secular Love - Concept Design ...   \n",
       "67499                       ４人打ちアクション麻雀 / ACTION MAHJONG   \n",
       "67500                                         ＜/reality＞   \n",
       "67501                     ＜/reality＞ Original Soundtrack   \n",
       "67502                                          🔴 Circles   \n",
       "\n",
       "                                                  genres  item_id user_id  \n",
       "0                       Action, Adventure, Casual, Indie   449940     NaN  \n",
       "1      Action, Free to Play, Indie, Massively Multipl...   308163     NaN  \n",
       "2                        Casual, Indie, Sports, Strategy   388390     NaN  \n",
       "3                                     Casual, Simulation   454790     NaN  \n",
       "4      Action, Free to Play, Indie, Massively Multipl...   308164     NaN  \n",
       "...                                                  ...      ...     ...  \n",
       "67498               Adventure, Casual, Indie, Simulation   541220     NaN  \n",
       "67499                Action, Casual, Indie, Early Access   575810     NaN  \n",
       "67500                                   Adventure, Indie   562280     NaN  \n",
       "67501                                   Adventure, Indie   626850     NaN  \n",
       "67502                                      Casual, Indie   460250     NaN  \n",
       "\n",
       "[67503 rows x 4 columns]"
      ]
     },
     "execution_count": 21,
     "metadata": {},
     "output_type": "execute_result"
    }
   ],
   "source": [
    "user_genres_n = df_agrupado1_sin_duplicados.merge(df_reviews, on='item_id', how='left')\n",
    "user_genres_n"
   ]
  },
  {
   "cell_type": "code",
   "execution_count": 22,
   "metadata": {},
   "outputs": [
    {
     "data": {
      "text/plain": [
       "41109"
      ]
     },
     "execution_count": 22,
     "metadata": {},
     "output_type": "execute_result"
    }
   ],
   "source": [
    "\n",
    "# Eliminar registros con valores nulos en la columna 'user_id'\n",
    "user_genres = user_genres_n.dropna(subset=[\"user_id\"])\n",
    "user_genres.shape[0]"
   ]
  },
  {
   "cell_type": "code",
   "execution_count": 23,
   "metadata": {},
   "outputs": [
    {
     "data": {
      "text/plain": [
       "user_id\n",
       "HeerFuhrurVonAuchwitz    10\n",
       "NanoPi                   10\n",
       "ac_elite                 10\n",
       "dragonlore23             10\n",
       "Findoogle                10\n",
       "                         ..\n",
       "uncleshenny               1\n",
       "76561198131841535         1\n",
       "76561198010336981         1\n",
       "STAELEVEN                 1\n",
       "76561198051447459         1\n",
       "Name: count, Length: 20677, dtype: int64"
      ]
     },
     "execution_count": 23,
     "metadata": {},
     "output_type": "execute_result"
    }
   ],
   "source": [
    "conteo_valores_user_id = user_genres['user_id'].value_counts()\n",
    "conteo_valores_user_id"
   ]
  },
  {
   "cell_type": "code",
   "execution_count": 34,
   "metadata": {},
   "outputs": [],
   "source": [
    "df_agrupado1_sin_duplicados1 = user_genres.drop_duplicates(keep='first')\n",
    "user_genres=df_agrupado1_sin_duplicados1"
   ]
  },
  {
   "cell_type": "code",
   "execution_count": 79,
   "metadata": {},
   "outputs": [
    {
     "data": {
      "text/html": [
       "<div>\n",
       "<style scoped>\n",
       "    .dataframe tbody tr th:only-of-type {\n",
       "        vertical-align: middle;\n",
       "    }\n",
       "\n",
       "    .dataframe tbody tr th {\n",
       "        vertical-align: top;\n",
       "    }\n",
       "\n",
       "    .dataframe thead th {\n",
       "        text-align: right;\n",
       "    }\n",
       "</style>\n",
       "<table border=\"1\" class=\"dataframe\">\n",
       "  <thead>\n",
       "    <tr style=\"text-align: right;\">\n",
       "      <th></th>\n",
       "      <th>Columna</th>\n",
       "      <th>Tipo</th>\n",
       "      <th>NO_nulos_%</th>\n",
       "      <th>Nulos_%</th>\n",
       "      <th>Nulos</th>\n",
       "    </tr>\n",
       "  </thead>\n",
       "  <tbody>\n",
       "    <tr>\n",
       "      <th>0</th>\n",
       "      <td>title</td>\n",
       "      <td>[&lt;class 'str'&gt;]</td>\n",
       "      <td>100.0</td>\n",
       "      <td>0.0</td>\n",
       "      <td>0</td>\n",
       "    </tr>\n",
       "    <tr>\n",
       "      <th>1</th>\n",
       "      <td>genres</td>\n",
       "      <td>[&lt;class 'str'&gt;]</td>\n",
       "      <td>100.0</td>\n",
       "      <td>0.0</td>\n",
       "      <td>0</td>\n",
       "    </tr>\n",
       "    <tr>\n",
       "      <th>2</th>\n",
       "      <td>item_id</td>\n",
       "      <td>[&lt;class 'int'&gt;]</td>\n",
       "      <td>100.0</td>\n",
       "      <td>0.0</td>\n",
       "      <td>0</td>\n",
       "    </tr>\n",
       "    <tr>\n",
       "      <th>3</th>\n",
       "      <td>user_id</td>\n",
       "      <td>[&lt;class 'str'&gt;]</td>\n",
       "      <td>100.0</td>\n",
       "      <td>0.0</td>\n",
       "      <td>0</td>\n",
       "    </tr>\n",
       "  </tbody>\n",
       "</table>\n",
       "</div>"
      ],
      "text/plain": [
       "   Columna             Tipo  NO_nulos_%  Nulos_%  Nulos\n",
       "0    title  [<class 'str'>]       100.0      0.0      0\n",
       "1   genres  [<class 'str'>]       100.0      0.0      0\n",
       "2  item_id  [<class 'int'>]       100.0      0.0      0\n",
       "3  user_id  [<class 'str'>]       100.0      0.0      0"
      ]
     },
     "execution_count": 79,
     "metadata": {},
     "output_type": "execute_result"
    }
   ],
   "source": [
    "#funciones.verificar_tipo_datos(user_genres)"
   ]
  },
  {
   "cell_type": "code",
   "execution_count": 69,
   "metadata": {},
   "outputs": [
    {
     "name": "stdout",
     "output_type": "stream",
     "text": [
      "['Brutal Legend', 'Dust: An Elysian Tail', 'Freedom Planet', 'Half-Life: Source', 'Just Cause 2: Multiplayer Mod', 'Left 4 Dead 2', 'Magicite', 'Ori and the Blind Forest', 'Osmos', 'Transistor']\n"
     ]
    }
   ],
   "source": [
    "#lista_juegos = [] # lista de titles del usuario\n",
    "# Supongamos que df es tu DataFrame con columnas 'user_id' y 'genres'\n",
    "# y user_id_X es el usuario específico para el cual quieres obtener los juegos\n",
    "#user_id_X = 'NanoPi'  # Reemplaza '123' con el user_id específico\n",
    "\n",
    "# Filtrar el DataFrame para el usuario específico\n",
    "#df_usuario = user_genres[user_genres['user_id'] == user_id_X]\n",
    "\n",
    "# Obtener los valores de la columna 'genres' para el usuario específico\n",
    "#lista_juegos = df_usuario['title'].tolist()\n",
    "\n",
    "# Imprimir la lista de juegos\n",
    "#print(lista_juegos)"
   ]
  },
  {
   "cell_type": "code",
   "execution_count": 39,
   "metadata": {},
   "outputs": [],
   "source": [
    "#perfil_usuario = data_vextorizado_df.loc[lista_juegos,:]"
   ]
  },
  {
   "cell_type": "code",
   "execution_count": 40,
   "metadata": {},
   "outputs": [
    {
     "data": {
      "text/plain": [
       "access          0.0\n",
       "accounting      0.0\n",
       "action          0.9\n",
       "adventure       0.4\n",
       "amp             0.0\n",
       "animation       0.0\n",
       "audio           0.0\n",
       "casual          0.1\n",
       "design          0.0\n",
       "early           0.0\n",
       "editing         0.0\n",
       "education       0.0\n",
       "free            0.0\n",
       "illustration    0.0\n",
       "indie           0.5\n",
       "massively       0.0\n",
       "modeling        0.0\n",
       "multiplayer     0.0\n",
       "photo           0.0\n",
       "play            0.0\n",
       "production      0.0\n",
       "publishing      0.0\n",
       "racing          0.0\n",
       "rpg             0.3\n",
       "simulation      0.0\n",
       "software        0.0\n",
       "sports          0.0\n",
       "strategy        0.1\n",
       "training        0.0\n",
       "utilities       0.0\n",
       "video           0.0\n",
       "web             0.0\n",
       "dtype: float64"
      ]
     },
     "execution_count": 40,
     "metadata": {},
     "output_type": "execute_result"
    }
   ],
   "source": [
    "#perfil_usuario_f = perfil_usuario.mean()\n",
    "#perfil_usuario_f"
   ]
  },
  {
   "cell_type": "code",
   "execution_count": 41,
   "metadata": {},
   "outputs": [],
   "source": [
    "# creamos un subconjunto no visto\n",
    "#no_jugadas_usuario = data_vextorizado_df.drop(lista_juegos, axis=0)"
   ]
  },
  {
   "cell_type": "code",
   "execution_count": 42,
   "metadata": {},
   "outputs": [],
   "source": [
    "#calculamos la similitud entre el perfil y los juegos no visto\n",
    "#perfil_usuario_similitud = cosine_similarity(perfil_usuario_f.values.reshape(1,-1), no_jugadas_usuario)"
   ]
  },
  {
   "cell_type": "code",
   "execution_count": 43,
   "metadata": {},
   "outputs": [],
   "source": [
    "#almacenamos en un nuevo dataframe\n",
    "#perfil_usuario_similitud_df = pd.DataFrame(perfil_usuario_similitud.T, index=no_jugadas_usuario.index, columns=['Similitud Coseno'])\n",
    " "
   ]
  },
  {
   "cell_type": "code",
   "execution_count": 44,
   "metadata": {},
   "outputs": [
    {
     "data": {
      "text/html": [
       "<div>\n",
       "<style scoped>\n",
       "    .dataframe tbody tr th:only-of-type {\n",
       "        vertical-align: middle;\n",
       "    }\n",
       "\n",
       "    .dataframe tbody tr th {\n",
       "        vertical-align: top;\n",
       "    }\n",
       "\n",
       "    .dataframe thead th {\n",
       "        text-align: right;\n",
       "    }\n",
       "</style>\n",
       "<table border=\"1\" class=\"dataframe\">\n",
       "  <thead>\n",
       "    <tr style=\"text-align: right;\">\n",
       "      <th></th>\n",
       "      <th>Similitud Coseno</th>\n",
       "    </tr>\n",
       "    <tr>\n",
       "      <th>title</th>\n",
       "      <th></th>\n",
       "    </tr>\n",
       "  </thead>\n",
       "  <tbody>\n",
       "    <tr>\n",
       "      <th>Totem</th>\n",
       "      <td>0.910465</td>\n",
       "    </tr>\n",
       "    <tr>\n",
       "      <th>Shrouded in Sanity - Original Soundtrack</th>\n",
       "      <td>0.910465</td>\n",
       "    </tr>\n",
       "    <tr>\n",
       "      <th>Mystik Belle</th>\n",
       "      <td>0.910465</td>\n",
       "    </tr>\n",
       "    <tr>\n",
       "      <th>Imprisoned Light</th>\n",
       "      <td>0.910465</td>\n",
       "    </tr>\n",
       "    <tr>\n",
       "      <th>Imprisoned Light - Soundtrack</th>\n",
       "      <td>0.910465</td>\n",
       "    </tr>\n",
       "    <tr>\n",
       "      <th>In Exilium</th>\n",
       "      <td>0.910465</td>\n",
       "    </tr>\n",
       "    <tr>\n",
       "      <th>In Exilium - OST</th>\n",
       "      <td>0.910465</td>\n",
       "    </tr>\n",
       "    <tr>\n",
       "      <th>In Verbis Virtus</th>\n",
       "      <td>0.910465</td>\n",
       "    </tr>\n",
       "    <tr>\n",
       "      <th>Shrouded in Sanity</th>\n",
       "      <td>0.910465</td>\n",
       "    </tr>\n",
       "    <tr>\n",
       "      <th>Rack N Ruin</th>\n",
       "      <td>0.910465</td>\n",
       "    </tr>\n",
       "  </tbody>\n",
       "</table>\n",
       "</div>"
      ],
      "text/plain": [
       "                                          Similitud Coseno\n",
       "title                                                     \n",
       "Totem                                             0.910465\n",
       "Shrouded in Sanity - Original Soundtrack          0.910465\n",
       "Mystik Belle                                      0.910465\n",
       "Imprisoned Light                                  0.910465\n",
       "Imprisoned Light - Soundtrack                     0.910465\n",
       "In Exilium                                        0.910465\n",
       "In Exilium - OST                                  0.910465\n",
       "In Verbis Virtus                                  0.910465\n",
       "Shrouded in Sanity                                0.910465\n",
       "Rack N Ruin                                       0.910465"
      ]
     },
     "execution_count": 44,
     "metadata": {},
     "output_type": "execute_result"
    }
   ],
   "source": [
    "'''#Mostramos el resultado ordenado\n",
    "ordenado_resultado = perfil_usuario_similitud_df.sort_values(by='Similitud Coseno', ascending=False)\n",
    "ordenado_resultado.head(10)'''"
   ]
  },
  {
   "cell_type": "markdown",
   "metadata": {},
   "source": [
    "___________\n"
   ]
  },
  {
   "cell_type": "code",
   "execution_count": 80,
   "metadata": {},
   "outputs": [],
   "source": [
    "'''import pandas as pd\n",
    "from sklearn.metrics.pairwise import cosine_similarity\n",
    "\n",
    "def obtener_recomendaciones(user_id, data_vextorizado_df, user_genres):\n",
    "    # Filtrar el DataFrame para el usuario específico\n",
    "    df_usuario = user_genres[user_genres['user_id'] == user_id]\n",
    "\n",
    "    # Obtener los valores de la columna 'genres' para el usuario específico\n",
    "    lista_juegos = df_usuario['title'].tolist()\n",
    "\n",
    "    # Seleccionar el perfil del usuario\n",
    "    perfil_usuario = data_vextorizado_df.loc[lista_juegos].mean()\n",
    "\n",
    "    # Crear un subconjunto de juegos no vistos\n",
    "    no_jugadas_usuario = data_vextorizado_df.drop(lista_juegos, axis=0)\n",
    "\n",
    "    # Calcular la similitud entre el perfil y los juegos no vistos\n",
    "    perfil_usuario_similitud = cosine_similarity(perfil_usuario.values.reshape(1, -1), no_jugadas_usuario)\n",
    "\n",
    "    # Almacenar en un nuevo DataFrame\n",
    "    perfil_usuario_similitud_df = pd.DataFrame(perfil_usuario_similitud.T, index=no_jugadas_usuario.index, columns=['Similitud Coseno'])\n",
    "\n",
    "    # Mostrar el resultado ordenado\n",
    "    ordenado_resultado = perfil_usuario_similitud_df.sort_values(by='Similitud Coseno', ascending=False)\n",
    "    \n",
    "    # Devolver las 5 mejores recomendaciones\n",
    "    top_recomendaciones = ordenado_resultado.head(5)\n",
    "\n",
    "    return top_recomendaciones\n",
    "\n",
    "\n",
    "'''"
   ]
  },
  {
   "cell_type": "code",
   "execution_count": 81,
   "metadata": {},
   "outputs": [
    {
     "name": "stdout",
     "output_type": "stream",
     "text": [
      "                                          Similitud Coseno\n",
      "title                                                     \n",
      "Totem                                             0.910465\n",
      "Shrouded in Sanity - Original Soundtrack          0.910465\n",
      "Mystik Belle                                      0.910465\n",
      "Imprisoned Light                                  0.910465\n",
      "Imprisoned Light - Soundtrack                     0.910465\n"
     ]
    }
   ],
   "source": [
    "'''# Ejemplo de uso:\n",
    "user_id_X = 'NanoPi'\n",
    "recomendaciones = obtener_recomendaciones(user_id_X, data_vextorizado_df, user_genres)\n",
    "print(recomendaciones)\n",
    "''''"
   ]
  },
  {
   "cell_type": "code",
   "execution_count": 47,
   "metadata": {},
   "outputs": [
    {
     "name": "stdout",
     "output_type": "stream",
     "text": [
      "['Totem', 'Shrouded in Sanity - Original Soundtrack', 'Mystik Belle', 'Imprisoned Light', 'Imprisoned Light - Soundtrack']\n"
     ]
    }
   ],
   "source": [
    "'''import pandas as pd\n",
    "from sklearn.metrics.pairwise import cosine_similarity\n",
    "\n",
    "def obtener_recomendaciones(user_id, data_vextorizado_df, user_genres):\n",
    "    # Filtrar el DataFrame para el usuario específico\n",
    "    df_usuario = user_genres[user_genres['user_id'] == user_id]\n",
    "\n",
    "    # Obtener los valores de la columna 'genres' para el usuario específico\n",
    "    lista_juegos = df_usuario['title'].tolist()\n",
    "\n",
    "    # Seleccionar el perfil del usuario\n",
    "    perfil_usuario = data_vextorizado_df.loc[lista_juegos].mean()\n",
    "\n",
    "    # Crear un subconjunto de juegos no vistos\n",
    "    no_jugadas_usuario = data_vextorizado_df.drop(lista_juegos, axis=0)\n",
    "\n",
    "    # Calcular la similitud entre el perfil y los juegos no vistos\n",
    "    perfil_usuario_similitud = cosine_similarity(perfil_usuario.values.reshape(1, -1), no_jugadas_usuario)\n",
    "\n",
    "    # Almacenar en un nuevo DataFrame\n",
    "    perfil_usuario_similitud_df = pd.DataFrame(perfil_usuario_similitud.T, index=no_jugadas_usuario.index, columns=['Similitud Coseno'])\n",
    "\n",
    "    # Mostrar el resultado ordenado\n",
    "    ordenado_resultado = perfil_usuario_similitud_df.sort_values(by='Similitud Coseno', ascending=False)\n",
    "    \n",
    "    # Devolver los títulos de las 5 mejores recomendaciones\n",
    "    top_recomendaciones = ordenado_resultado.head(5).index.tolist()\n",
    "\n",
    "    return top_recomendaciones\n",
    "\n",
    "# Ejemplo de uso:\n",
    "user_id_X = 'NanoPi'\n",
    "recomendaciones = obtener_recomendaciones(user_id_X, data_vextorizado_df, user_genres)\n",
    "print(recomendaciones)'''\n"
   ]
  },
  {
   "cell_type": "code",
   "execution_count": 24,
   "metadata": {},
   "outputs": [
    {
     "name": "stdout",
     "output_type": "stream",
     "text": [
      "Recomendaciones para el usuario NanoPi:\n",
      "['2 Blue Orbs', '5 Blue Orbs', 'ABRACA - Imagic Games', 'ARCADE GAME SERIES: DIG DUG', 'ARCADE GAME SERIES: GALAGA']\n"
     ]
    }
   ],
   "source": [
    "import pandas as pd\n",
    "import numpy as np\n",
    "\n",
    "# Supongamos que ya tienes un DataFrame llamado df_agrupado y la matriz de similitud llamada similitud\n",
    "\n",
    "# Se genera una función que te da la recomendación por título\n",
    "def recomendacion_para_usuario(user_id):\n",
    "    # Obtener los juegos que el usuario ha visto\n",
    "    juegos_vistos = user_genres[user_genres[\"user_id\"] == user_id][\"title\"]\n",
    "\n",
    "    # Inicializar un diccionario para almacenar la puntuación acumulada de cada juego recomendado\n",
    "    puntuacion_recomendaciones = {}\n",
    "\n",
    "    # Iterar sobre los juegos vistos por el usuario\n",
    "    for juego in juegos_vistos:\n",
    "        indice_juego = df_agrupado[df_agrupado[\"title\"] == juego].index[0]\n",
    "        distancias = similitud[indice_juego]\n",
    "        juegos_recomendados = sorted(list(enumerate(distancias)), reverse=True, key=lambda x: x[1])[1:6]\n",
    "\n",
    "        # Actualizar la puntuación acumulada de cada juego recomendado\n",
    "        for juego_recomendado in juegos_recomendados:\n",
    "            indice_recomendado = juego_recomendado[0]\n",
    "            similitud_score = juego_recomendado[1]\n",
    "            titulo_recomendado = df_agrupado.iloc[indice_recomendado]['title']\n",
    "\n",
    "            if titulo_recomendado not in juegos_vistos:\n",
    "                if titulo_recomendado not in puntuacion_recomendaciones:\n",
    "                    puntuacion_recomendaciones[titulo_recomendado] = 0\n",
    "                puntuacion_recomendaciones[titulo_recomendado] += similitud_score\n",
    "\n",
    "    # Ordenar los juegos recomendados por puntuación acumulada\n",
    "    juegos_recomendados = sorted(puntuacion_recomendaciones.items(), key=lambda x: x[1], reverse=True)[:5]\n",
    "\n",
    "    return [juego[0] for juego in juegos_recomendados]\n",
    "\n",
    "# Ejemplo de uso\n",
    "user_id_ejemplo = \"NanoPi\"  # Reemplaza esto con el user_id que desees\n",
    "recomendaciones_usuario = recomendacion_para_usuario(user_id_ejemplo)\n",
    "\n",
    "print(f\"Recomendaciones para el usuario {user_id_ejemplo}:\")\n",
    "print(recomendaciones_usuario)\n"
   ]
  },
  {
   "cell_type": "code",
   "execution_count": 25,
   "metadata": {},
   "outputs": [
    {
     "data": {
      "text/html": [
       "<div>\n",
       "<style scoped>\n",
       "    .dataframe tbody tr th:only-of-type {\n",
       "        vertical-align: middle;\n",
       "    }\n",
       "\n",
       "    .dataframe tbody tr th {\n",
       "        vertical-align: top;\n",
       "    }\n",
       "\n",
       "    .dataframe thead th {\n",
       "        text-align: right;\n",
       "    }\n",
       "</style>\n",
       "<table border=\"1\" class=\"dataframe\">\n",
       "  <thead>\n",
       "    <tr style=\"text-align: right;\">\n",
       "      <th></th>\n",
       "      <th>title</th>\n",
       "      <th>genres</th>\n",
       "      <th>item_id</th>\n",
       "      <th>user_id</th>\n",
       "    </tr>\n",
       "  </thead>\n",
       "  <tbody>\n",
       "    <tr>\n",
       "      <th>25</th>\n",
       "      <td>//N.P.P.D. RUSH//- The milk of Ultraviolet</td>\n",
       "      <td>Action, Indie</td>\n",
       "      <td>270090</td>\n",
       "      <td>jdrocks</td>\n",
       "    </tr>\n",
       "    <tr>\n",
       "      <th>26</th>\n",
       "      <td>//N.P.P.D. RUSH//- The milk of Ultraviolet</td>\n",
       "      <td>Action, Indie</td>\n",
       "      <td>270090</td>\n",
       "      <td>mr_pie_nice_cheese</td>\n",
       "    </tr>\n",
       "    <tr>\n",
       "      <th>35</th>\n",
       "      <td>0RBITALIS</td>\n",
       "      <td>Indie, Simulation</td>\n",
       "      <td>278440</td>\n",
       "      <td>76561198024316193</td>\n",
       "    </tr>\n",
       "    <tr>\n",
       "      <th>45</th>\n",
       "      <td>10,000,000</td>\n",
       "      <td>Action, Casual, Indie, RPG</td>\n",
       "      <td>227580</td>\n",
       "      <td>hecaton_john</td>\n",
       "    </tr>\n",
       "    <tr>\n",
       "      <th>46</th>\n",
       "      <td>10,000,000</td>\n",
       "      <td>Action, Casual, Indie, RPG</td>\n",
       "      <td>227580</td>\n",
       "      <td>ghost-loli</td>\n",
       "    </tr>\n",
       "    <tr>\n",
       "      <th>...</th>\n",
       "      <td>...</td>\n",
       "      <td>...</td>\n",
       "      <td>...</td>\n",
       "      <td>...</td>\n",
       "    </tr>\n",
       "    <tr>\n",
       "      <th>67392</th>\n",
       "      <td>theHunter: Primal</td>\n",
       "      <td>Action, Adventure, Simulation</td>\n",
       "      <td>322920</td>\n",
       "      <td>sdq101</td>\n",
       "    </tr>\n",
       "    <tr>\n",
       "      <th>67393</th>\n",
       "      <td>theHunter: Primal</td>\n",
       "      <td>Action, Adventure, Simulation</td>\n",
       "      <td>322920</td>\n",
       "      <td>76561198051447459</td>\n",
       "    </tr>\n",
       "    <tr>\n",
       "      <th>67394</th>\n",
       "      <td>theHunter: Primal</td>\n",
       "      <td>Action, Adventure, Simulation</td>\n",
       "      <td>322920</td>\n",
       "      <td>djm3h</td>\n",
       "    </tr>\n",
       "    <tr>\n",
       "      <th>67395</th>\n",
       "      <td>theHunter: Primal</td>\n",
       "      <td>Action, Adventure, Simulation</td>\n",
       "      <td>322920</td>\n",
       "      <td>danielsanger</td>\n",
       "    </tr>\n",
       "    <tr>\n",
       "      <th>67415</th>\n",
       "      <td>Астролорды: Облако Оорта</td>\n",
       "      <td>Free to Play, Indie, Massively Multiplayer, St...</td>\n",
       "      <td>385530</td>\n",
       "      <td>HackingPro1</td>\n",
       "    </tr>\n",
       "  </tbody>\n",
       "</table>\n",
       "<p>41109 rows × 4 columns</p>\n",
       "</div>"
      ],
      "text/plain": [
       "                                            title  \\\n",
       "25     //N.P.P.D. RUSH//- The milk of Ultraviolet   \n",
       "26     //N.P.P.D. RUSH//- The milk of Ultraviolet   \n",
       "35                                      0RBITALIS   \n",
       "45                                     10,000,000   \n",
       "46                                     10,000,000   \n",
       "...                                           ...   \n",
       "67392                           theHunter: Primal   \n",
       "67393                           theHunter: Primal   \n",
       "67394                           theHunter: Primal   \n",
       "67395                           theHunter: Primal   \n",
       "67415                    Астролорды: Облако Оорта   \n",
       "\n",
       "                                                  genres  item_id  \\\n",
       "25                                         Action, Indie   270090   \n",
       "26                                         Action, Indie   270090   \n",
       "35                                     Indie, Simulation   278440   \n",
       "45                            Action, Casual, Indie, RPG   227580   \n",
       "46                            Action, Casual, Indie, RPG   227580   \n",
       "...                                                  ...      ...   \n",
       "67392                      Action, Adventure, Simulation   322920   \n",
       "67393                      Action, Adventure, Simulation   322920   \n",
       "67394                      Action, Adventure, Simulation   322920   \n",
       "67395                      Action, Adventure, Simulation   322920   \n",
       "67415  Free to Play, Indie, Massively Multiplayer, St...   385530   \n",
       "\n",
       "                  user_id  \n",
       "25                jdrocks  \n",
       "26     mr_pie_nice_cheese  \n",
       "35      76561198024316193  \n",
       "45           hecaton_john  \n",
       "46             ghost-loli  \n",
       "...                   ...  \n",
       "67392              sdq101  \n",
       "67393   76561198051447459  \n",
       "67394               djm3h  \n",
       "67395        danielsanger  \n",
       "67415         HackingPro1  \n",
       "\n",
       "[41109 rows x 4 columns]"
      ]
     },
     "execution_count": 25,
     "metadata": {},
     "output_type": "execute_result"
    }
   ],
   "source": [
    "user_genres"
   ]
  },
  {
   "cell_type": "code",
   "execution_count": 27,
   "metadata": {},
   "outputs": [
    {
     "data": {
      "text/html": [
       "<div>\n",
       "<style scoped>\n",
       "    .dataframe tbody tr th:only-of-type {\n",
       "        vertical-align: middle;\n",
       "    }\n",
       "\n",
       "    .dataframe tbody tr th {\n",
       "        vertical-align: top;\n",
       "    }\n",
       "\n",
       "    .dataframe thead th {\n",
       "        text-align: right;\n",
       "    }\n",
       "</style>\n",
       "<table border=\"1\" class=\"dataframe\">\n",
       "  <thead>\n",
       "    <tr style=\"text-align: right;\">\n",
       "      <th></th>\n",
       "      <th>user_id</th>\n",
       "    </tr>\n",
       "  </thead>\n",
       "  <tbody>\n",
       "    <tr>\n",
       "      <th>25</th>\n",
       "      <td>jdrocks</td>\n",
       "    </tr>\n",
       "    <tr>\n",
       "      <th>26</th>\n",
       "      <td>mr_pie_nice_cheese</td>\n",
       "    </tr>\n",
       "    <tr>\n",
       "      <th>35</th>\n",
       "      <td>76561198024316193</td>\n",
       "    </tr>\n",
       "    <tr>\n",
       "      <th>45</th>\n",
       "      <td>hecaton_john</td>\n",
       "    </tr>\n",
       "    <tr>\n",
       "      <th>46</th>\n",
       "      <td>ghost-loli</td>\n",
       "    </tr>\n",
       "    <tr>\n",
       "      <th>...</th>\n",
       "      <td>...</td>\n",
       "    </tr>\n",
       "    <tr>\n",
       "      <th>67392</th>\n",
       "      <td>sdq101</td>\n",
       "    </tr>\n",
       "    <tr>\n",
       "      <th>67393</th>\n",
       "      <td>76561198051447459</td>\n",
       "    </tr>\n",
       "    <tr>\n",
       "      <th>67394</th>\n",
       "      <td>djm3h</td>\n",
       "    </tr>\n",
       "    <tr>\n",
       "      <th>67395</th>\n",
       "      <td>danielsanger</td>\n",
       "    </tr>\n",
       "    <tr>\n",
       "      <th>67415</th>\n",
       "      <td>HackingPro1</td>\n",
       "    </tr>\n",
       "  </tbody>\n",
       "</table>\n",
       "<p>41109 rows × 1 columns</p>\n",
       "</div>"
      ],
      "text/plain": [
       "                  user_id\n",
       "25                jdrocks\n",
       "26     mr_pie_nice_cheese\n",
       "35      76561198024316193\n",
       "45           hecaton_john\n",
       "46             ghost-loli\n",
       "...                   ...\n",
       "67392              sdq101\n",
       "67393   76561198051447459\n",
       "67394               djm3h\n",
       "67395        danielsanger\n",
       "67415         HackingPro1\n",
       "\n",
       "[41109 rows x 1 columns]"
      ]
     },
     "execution_count": 27,
     "metadata": {},
     "output_type": "execute_result"
    }
   ],
   "source": [
    "df_user_id = user_genres[['user_id']]\n",
    "df_user_id"
   ]
  },
  {
   "cell_type": "markdown",
   "metadata": {},
   "source": [
    "___________________________________________________________"
   ]
  },
  {
   "cell_type": "markdown",
   "metadata": {},
   "source": [
    "### <center> Tabla generada user</center>\n",
    " ### <center>para ser consumido por la API </center>"
   ]
  },
  {
   "cell_type": "code",
   "execution_count": 30,
   "metadata": {},
   "outputs": [],
   "source": [
    "# Agregar una nueva columna 'recomendaciones' usando la función recomendacion_para_usuario\n",
    "df_user_id['recomendaciones'] = df_user_id['user_id'].apply(recomendacion_para_usuario)\n"
   ]
  },
  {
   "cell_type": "code",
   "execution_count": 31,
   "metadata": {},
   "outputs": [
    {
     "data": {
      "text/html": [
       "<div>\n",
       "<style scoped>\n",
       "    .dataframe tbody tr th:only-of-type {\n",
       "        vertical-align: middle;\n",
       "    }\n",
       "\n",
       "    .dataframe tbody tr th {\n",
       "        vertical-align: top;\n",
       "    }\n",
       "\n",
       "    .dataframe thead th {\n",
       "        text-align: right;\n",
       "    }\n",
       "</style>\n",
       "<table border=\"1\" class=\"dataframe\">\n",
       "  <thead>\n",
       "    <tr style=\"text-align: right;\">\n",
       "      <th></th>\n",
       "      <th>user_id</th>\n",
       "      <th>recomendaciones</th>\n",
       "    </tr>\n",
       "  </thead>\n",
       "  <tbody>\n",
       "    <tr>\n",
       "      <th>25</th>\n",
       "      <td>jdrocks</td>\n",
       "      <td>[A.V.A. Alliance of Valiant Arms™: Free Pack, ...</td>\n",
       "    </tr>\n",
       "    <tr>\n",
       "      <th>26</th>\n",
       "      <td>mr_pie_nice_cheese</td>\n",
       "      <td>[2 Blue Orbs, 5 Blue Orbs, ABRACA - Imagic Gam...</td>\n",
       "    </tr>\n",
       "    <tr>\n",
       "      <th>35</th>\n",
       "      <td>76561198024316193</td>\n",
       "      <td>[Black Rose, Blink the Bulb, Chasing Styx, Doo...</td>\n",
       "    </tr>\n",
       "    <tr>\n",
       "      <th>45</th>\n",
       "      <td>hecaton_john</td>\n",
       "      <td>[Buff Knight Advanced, Chicken Assassin - Mast...</td>\n",
       "    </tr>\n",
       "    <tr>\n",
       "      <th>46</th>\n",
       "      <td>ghost-loli</td>\n",
       "      <td>[1943 Megami Strike, 222 Hearts, 4Team, 8BitBo...</td>\n",
       "    </tr>\n",
       "    <tr>\n",
       "      <th>...</th>\n",
       "      <td>...</td>\n",
       "      <td>...</td>\n",
       "    </tr>\n",
       "    <tr>\n",
       "      <th>67392</th>\n",
       "      <td>sdq101</td>\n",
       "      <td>[.EXE - OST, 1001 Spikes, 24 HOURS, A Bastard'...</td>\n",
       "    </tr>\n",
       "    <tr>\n",
       "      <th>67393</th>\n",
       "      <td>76561198051447459</td>\n",
       "      <td>[Beyond Space Remastered Edition, CAR THIEF SI...</td>\n",
       "    </tr>\n",
       "    <tr>\n",
       "      <th>67394</th>\n",
       "      <td>djm3h</td>\n",
       "      <td>[AddForce, Air Guardians, Aircraft War X, Arte...</td>\n",
       "    </tr>\n",
       "    <tr>\n",
       "      <th>67395</th>\n",
       "      <td>danielsanger</td>\n",
       "      <td>[Clown2Beat Crazy Circus, Embers of Magic, Mau...</td>\n",
       "    </tr>\n",
       "    <tr>\n",
       "      <th>67415</th>\n",
       "      <td>HackingPro1</td>\n",
       "      <td>[Cards and Castles, Faeria, Faeria - Steam Pac...</td>\n",
       "    </tr>\n",
       "  </tbody>\n",
       "</table>\n",
       "<p>41109 rows × 2 columns</p>\n",
       "</div>"
      ],
      "text/plain": [
       "                  user_id                                    recomendaciones\n",
       "25                jdrocks  [A.V.A. Alliance of Valiant Arms™: Free Pack, ...\n",
       "26     mr_pie_nice_cheese  [2 Blue Orbs, 5 Blue Orbs, ABRACA - Imagic Gam...\n",
       "35      76561198024316193  [Black Rose, Blink the Bulb, Chasing Styx, Doo...\n",
       "45           hecaton_john  [Buff Knight Advanced, Chicken Assassin - Mast...\n",
       "46             ghost-loli  [1943 Megami Strike, 222 Hearts, 4Team, 8BitBo...\n",
       "...                   ...                                                ...\n",
       "67392              sdq101  [.EXE - OST, 1001 Spikes, 24 HOURS, A Bastard'...\n",
       "67393   76561198051447459  [Beyond Space Remastered Edition, CAR THIEF SI...\n",
       "67394               djm3h  [AddForce, Air Guardians, Aircraft War X, Arte...\n",
       "67395        danielsanger  [Clown2Beat Crazy Circus, Embers of Magic, Mau...\n",
       "67415         HackingPro1  [Cards and Castles, Faeria, Faeria - Steam Pac...\n",
       "\n",
       "[41109 rows x 2 columns]"
      ]
     },
     "execution_count": 31,
     "metadata": {},
     "output_type": "execute_result"
    }
   ],
   "source": [
    "df_user_id"
   ]
  },
  {
   "cell_type": "markdown",
   "metadata": {},
   "source": [
    "____________________________________________________"
   ]
  },
  {
   "cell_type": "markdown",
   "metadata": {},
   "source": [
    "### <center> Se guarda en un archivo PARQUET</center>\n",
    " ### <center>para ser consumido por la API </center>"
   ]
  },
  {
   "cell_type": "code",
   "execution_count": 32,
   "metadata": {},
   "outputs": [
    {
     "name": "stdout",
     "output_type": "stream",
     "text": [
      "Se guardó el archivo ..\\DATA\\modelo_rec_u.parquet\n"
     ]
    }
   ],
   "source": [
    "#Se construye la ruta completa al archivo DATA desde la ubicación del notebook\n",
    "modelo_u = os.path.join('..', 'DATA', 'modelo_rec_u.parquet')\n",
    "\n",
    "# Guarda el DataFrame en el archivo PARQUET\n",
    "df_user_id.to_parquet(modelo_u)\n",
    "\n",
    "print(f'Se guardó el archivo {modelo_u}')"
   ]
  },
  {
   "cell_type": "markdown",
   "metadata": {},
   "source": [
    "_________________________________________________________________________"
   ]
  },
  {
   "cell_type": "markdown",
   "metadata": {},
   "source": [
    "### <center> Se verifica el funcionamiento\n",
    "### <center> del consumo del PARQUET \n",
    "### <center>y de la función a deployar"
   ]
  },
  {
   "cell_type": "code",
   "execution_count": 33,
   "metadata": {},
   "outputs": [
    {
     "data": {
      "text/html": [
       "<div>\n",
       "<style scoped>\n",
       "    .dataframe tbody tr th:only-of-type {\n",
       "        vertical-align: middle;\n",
       "    }\n",
       "\n",
       "    .dataframe tbody tr th {\n",
       "        vertical-align: top;\n",
       "    }\n",
       "\n",
       "    .dataframe thead th {\n",
       "        text-align: right;\n",
       "    }\n",
       "</style>\n",
       "<table border=\"1\" class=\"dataframe\">\n",
       "  <thead>\n",
       "    <tr style=\"text-align: right;\">\n",
       "      <th></th>\n",
       "      <th>user_id</th>\n",
       "      <th>recomendaciones</th>\n",
       "    </tr>\n",
       "  </thead>\n",
       "  <tbody>\n",
       "    <tr>\n",
       "      <th>25</th>\n",
       "      <td>jdrocks</td>\n",
       "      <td>[A.V.A. Alliance of Valiant Arms™: Free Pack, ...</td>\n",
       "    </tr>\n",
       "    <tr>\n",
       "      <th>26</th>\n",
       "      <td>mr_pie_nice_cheese</td>\n",
       "      <td>[2 Blue Orbs, 5 Blue Orbs, ABRACA - Imagic Gam...</td>\n",
       "    </tr>\n",
       "    <tr>\n",
       "      <th>35</th>\n",
       "      <td>76561198024316193</td>\n",
       "      <td>[Black Rose, Blink the Bulb, Chasing Styx, Doo...</td>\n",
       "    </tr>\n",
       "    <tr>\n",
       "      <th>45</th>\n",
       "      <td>hecaton_john</td>\n",
       "      <td>[Buff Knight Advanced, Chicken Assassin - Mast...</td>\n",
       "    </tr>\n",
       "    <tr>\n",
       "      <th>46</th>\n",
       "      <td>ghost-loli</td>\n",
       "      <td>[1943 Megami Strike, 222 Hearts, 4Team, 8BitBo...</td>\n",
       "    </tr>\n",
       "    <tr>\n",
       "      <th>...</th>\n",
       "      <td>...</td>\n",
       "      <td>...</td>\n",
       "    </tr>\n",
       "    <tr>\n",
       "      <th>67392</th>\n",
       "      <td>sdq101</td>\n",
       "      <td>[.EXE - OST, 1001 Spikes, 24 HOURS, A Bastard'...</td>\n",
       "    </tr>\n",
       "    <tr>\n",
       "      <th>67393</th>\n",
       "      <td>76561198051447459</td>\n",
       "      <td>[Beyond Space Remastered Edition, CAR THIEF SI...</td>\n",
       "    </tr>\n",
       "    <tr>\n",
       "      <th>67394</th>\n",
       "      <td>djm3h</td>\n",
       "      <td>[AddForce, Air Guardians, Aircraft War X, Arte...</td>\n",
       "    </tr>\n",
       "    <tr>\n",
       "      <th>67395</th>\n",
       "      <td>danielsanger</td>\n",
       "      <td>[Clown2Beat Crazy Circus, Embers of Magic, Mau...</td>\n",
       "    </tr>\n",
       "    <tr>\n",
       "      <th>67415</th>\n",
       "      <td>HackingPro1</td>\n",
       "      <td>[Cards and Castles, Faeria, Faeria - Steam Pac...</td>\n",
       "    </tr>\n",
       "  </tbody>\n",
       "</table>\n",
       "<p>41109 rows × 2 columns</p>\n",
       "</div>"
      ],
      "text/plain": [
       "                  user_id                                    recomendaciones\n",
       "25                jdrocks  [A.V.A. Alliance of Valiant Arms™: Free Pack, ...\n",
       "26     mr_pie_nice_cheese  [2 Blue Orbs, 5 Blue Orbs, ABRACA - Imagic Gam...\n",
       "35      76561198024316193  [Black Rose, Blink the Bulb, Chasing Styx, Doo...\n",
       "45           hecaton_john  [Buff Knight Advanced, Chicken Assassin - Mast...\n",
       "46             ghost-loli  [1943 Megami Strike, 222 Hearts, 4Team, 8BitBo...\n",
       "...                   ...                                                ...\n",
       "67392              sdq101  [.EXE - OST, 1001 Spikes, 24 HOURS, A Bastard'...\n",
       "67393   76561198051447459  [Beyond Space Remastered Edition, CAR THIEF SI...\n",
       "67394               djm3h  [AddForce, Air Guardians, Aircraft War X, Arte...\n",
       "67395        danielsanger  [Clown2Beat Crazy Circus, Embers of Magic, Mau...\n",
       "67415         HackingPro1  [Cards and Castles, Faeria, Faeria - Steam Pac...\n",
       "\n",
       "[41109 rows x 2 columns]"
      ]
     },
     "execution_count": 33,
     "metadata": {},
     "output_type": "execute_result"
    }
   ],
   "source": [
    "# Se lee el archivo PARQUET\n",
    "modelo = os.path.join('..', 'DATA', 'modelo_rec_u.parquet')\n",
    "df=pd.read_parquet(modelo)\n",
    "\n",
    "#Se  ve el contenido en un dataframe\n",
    "df"
   ]
  },
  {
   "cell_type": "code",
   "execution_count": 34,
   "metadata": {},
   "outputs": [],
   "source": [
    "from fastapi.responses import JSONResponse\n",
    "\n",
    "\n",
    "def recomendacion_juego_u(id_user: str):\n",
    "    recomendaciones = df[df['user_id'] == id_user]['recomendaciones'].iloc[0]\n",
    "    \n",
    "    # Verificar si la lista de recomendaciones no está vacía\n",
    "    if len(recomendaciones) > 0:\n",
    "        recomendaciones_dict = {i + 1: juego for i, juego in enumerate(recomendaciones)}\n",
    "        return recomendaciones_dict\n",
    "    else:\n",
    "        # Si no se encontraron recomendaciones para el ID, devolver un mensaje de error\n",
    "        error_data = {'error': 'No se encontraron recomendaciones para el ID proporcionado'}\n",
    "        return JSONResponse(content=error_data, status_code=404)"
   ]
  },
  {
   "cell_type": "code",
   "execution_count": 35,
   "metadata": {},
   "outputs": [
    {
     "data": {
      "text/plain": [
       "{1: '.EXE - OST',\n",
       " 2: '1001 Spikes',\n",
       " 3: '24 HOURS',\n",
       " 4: \"A Bastard's Tale\",\n",
       " 5: \"A Bastard's Tale Demo\"}"
      ]
     },
     "execution_count": 35,
     "metadata": {},
     "output_type": "execute_result"
    }
   ],
   "source": [
    "recomendacion_juego_u('sdq101')"
   ]
  }
 ],
 "metadata": {
  "kernelspec": {
   "display_name": "Python 3",
   "language": "python",
   "name": "python3"
  },
  "language_info": {
   "codemirror_mode": {
    "name": "ipython",
    "version": 3
   },
   "file_extension": ".py",
   "mimetype": "text/x-python",
   "name": "python",
   "nbconvert_exporter": "python",
   "pygments_lexer": "ipython3",
   "version": "3.11.6"
  }
 },
 "nbformat": 4,
 "nbformat_minor": 2
}
