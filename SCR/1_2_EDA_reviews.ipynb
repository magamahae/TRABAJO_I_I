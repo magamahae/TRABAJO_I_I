{
 "cells": [
  {
   "cell_type": "markdown",
   "metadata": {},
   "source": [
    "# <center>  EDA </br>\n",
    "#  <center> -- Análisis Exploratorio de Datos--</center>\n",
    "Como científicos de datos y analistas, se exploran diferentes aspectos de los datos, como la distribución de variables, relaciones entre variables, tendencias a lo largo del tiempo, y cualquier otra característica que pueda ser relevante para comprender la naturaleza de los datos.\n",
    "<center> Aquí lo haremos sobre los datos del dataframe 'df_reviews'"
   ]
  },
  {
   "cell_type": "markdown",
   "metadata": {},
   "source": [
    "### <center>Importar Librerias</center>"
   ]
  },
  {
   "cell_type": "code",
   "execution_count": 1,
   "metadata": {},
   "outputs": [],
   "source": [
    "import pandas as pd\n",
    "import seaborn as sns\n",
    "import matplotlib.pyplot as plt\n",
    "import funciones\n",
    "import os\n",
    "\n",
    "%load_ext autoreload\n",
    "%autoreload 2\n",
    "\n",
    "import warnings\n",
    "warnings.filterwarnings(\"ignore\")"
   ]
  },
  {
   "cell_type": "markdown",
   "metadata": {},
   "source": [
    "____________"
   ]
  },
  {
   "cell_type": "markdown",
   "metadata": {},
   "source": [
    "### <center>Extracción de datos</center>"
   ]
  },
  {
   "cell_type": "code",
   "execution_count": 2,
   "metadata": {},
   "outputs": [],
   "source": [
    "# Se obtiene la ruta completa al archivo CSV desde la ubicación del notebook\n",
    "csv_path = os.path.join('..', 'CSV', 'reviews_limpio.csv')\n",
    "\n",
    "# Se lee el archivo CSV\n",
    "df_reviews = pd.read_csv(csv_path, encoding='utf-8')"
   ]
  },
  {
   "cell_type": "markdown",
   "metadata": {},
   "source": [
    "_______________"
   ]
  },
  {
   "cell_type": "code",
   "execution_count": 3,
   "metadata": {},
   "outputs": [
    {
     "data": {
      "text/html": [
       "<div>\n",
       "<style scoped>\n",
       "    .dataframe tbody tr th:only-of-type {\n",
       "        vertical-align: middle;\n",
       "    }\n",
       "\n",
       "    .dataframe tbody tr th {\n",
       "        vertical-align: top;\n",
       "    }\n",
       "\n",
       "    .dataframe thead th {\n",
       "        text-align: right;\n",
       "    }\n",
       "</style>\n",
       "<table border=\"1\" class=\"dataframe\">\n",
       "  <thead>\n",
       "    <tr style=\"text-align: right;\">\n",
       "      <th></th>\n",
       "      <th>posted</th>\n",
       "      <th>item_id</th>\n",
       "      <th>helpful</th>\n",
       "      <th>recommend</th>\n",
       "      <th>user_id</th>\n",
       "      <th>sentiment_analysis</th>\n",
       "    </tr>\n",
       "  </thead>\n",
       "  <tbody>\n",
       "    <tr>\n",
       "      <th>0</th>\n",
       "      <td>2011-11-05</td>\n",
       "      <td>1250</td>\n",
       "      <td>No ratings yet</td>\n",
       "      <td>1.0</td>\n",
       "      <td>76561197970982479</td>\n",
       "      <td>1</td>\n",
       "    </tr>\n",
       "    <tr>\n",
       "      <th>1</th>\n",
       "      <td>2011-07-15</td>\n",
       "      <td>22200</td>\n",
       "      <td>No ratings yet</td>\n",
       "      <td>1.0</td>\n",
       "      <td>76561197970982479</td>\n",
       "      <td>2</td>\n",
       "    </tr>\n",
       "    <tr>\n",
       "      <th>2</th>\n",
       "      <td>2011-04-21</td>\n",
       "      <td>43110</td>\n",
       "      <td>No ratings yet</td>\n",
       "      <td>1.0</td>\n",
       "      <td>76561197970982479</td>\n",
       "      <td>1</td>\n",
       "    </tr>\n",
       "    <tr>\n",
       "      <th>3</th>\n",
       "      <td>2014-06-24</td>\n",
       "      <td>251610</td>\n",
       "      <td>15 of 20 people (75%) found this review helpful</td>\n",
       "      <td>1.0</td>\n",
       "      <td>js41637</td>\n",
       "      <td>1</td>\n",
       "    </tr>\n",
       "    <tr>\n",
       "      <th>4</th>\n",
       "      <td>2013-09-08</td>\n",
       "      <td>227300</td>\n",
       "      <td>0 of 1 people (0%) found this review helpful</td>\n",
       "      <td>1.0</td>\n",
       "      <td>js41637</td>\n",
       "      <td>1</td>\n",
       "    </tr>\n",
       "    <tr>\n",
       "      <th>...</th>\n",
       "      <td>...</td>\n",
       "      <td>...</td>\n",
       "      <td>...</td>\n",
       "      <td>...</td>\n",
       "      <td>...</td>\n",
       "      <td>...</td>\n",
       "    </tr>\n",
       "    <tr>\n",
       "      <th>48493</th>\n",
       "      <td>2015-10-14</td>\n",
       "      <td>730</td>\n",
       "      <td>1 of 1 people (100%) found this review helpful</td>\n",
       "      <td>1.0</td>\n",
       "      <td>wayfeng</td>\n",
       "      <td>1</td>\n",
       "    </tr>\n",
       "    <tr>\n",
       "      <th>48494</th>\n",
       "      <td>2015-10-10</td>\n",
       "      <td>253980</td>\n",
       "      <td>No ratings yet</td>\n",
       "      <td>1.0</td>\n",
       "      <td>76561198251004808</td>\n",
       "      <td>2</td>\n",
       "    </tr>\n",
       "    <tr>\n",
       "      <th>48495</th>\n",
       "      <td>2015-10-31</td>\n",
       "      <td>730</td>\n",
       "      <td>No ratings yet</td>\n",
       "      <td>1.0</td>\n",
       "      <td>72947282842</td>\n",
       "      <td>0</td>\n",
       "    </tr>\n",
       "    <tr>\n",
       "      <th>48496</th>\n",
       "      <td>2015-12-14</td>\n",
       "      <td>730</td>\n",
       "      <td>No ratings yet</td>\n",
       "      <td>1.0</td>\n",
       "      <td>ApxLGhost</td>\n",
       "      <td>1</td>\n",
       "    </tr>\n",
       "    <tr>\n",
       "      <th>48497</th>\n",
       "      <td>2015-12-29</td>\n",
       "      <td>369200</td>\n",
       "      <td>1 of 2 people (50%) found this review helpful</td>\n",
       "      <td>1.0</td>\n",
       "      <td>76561198267374962</td>\n",
       "      <td>2</td>\n",
       "    </tr>\n",
       "  </tbody>\n",
       "</table>\n",
       "<p>48498 rows × 6 columns</p>\n",
       "</div>"
      ],
      "text/plain": [
       "           posted  item_id                                          helpful  \\\n",
       "0      2011-11-05     1250                                   No ratings yet   \n",
       "1      2011-07-15    22200                                   No ratings yet   \n",
       "2      2011-04-21    43110                                   No ratings yet   \n",
       "3      2014-06-24   251610  15 of 20 people (75%) found this review helpful   \n",
       "4      2013-09-08   227300     0 of 1 people (0%) found this review helpful   \n",
       "...           ...      ...                                              ...   \n",
       "48493  2015-10-14      730   1 of 1 people (100%) found this review helpful   \n",
       "48494  2015-10-10   253980                                   No ratings yet   \n",
       "48495  2015-10-31      730                                   No ratings yet   \n",
       "48496  2015-12-14      730                                   No ratings yet   \n",
       "48497  2015-12-29   369200    1 of 2 people (50%) found this review helpful   \n",
       "\n",
       "       recommend            user_id  sentiment_analysis  \n",
       "0            1.0  76561197970982479                   1  \n",
       "1            1.0  76561197970982479                   2  \n",
       "2            1.0  76561197970982479                   1  \n",
       "3            1.0            js41637                   1  \n",
       "4            1.0            js41637                   1  \n",
       "...          ...                ...                 ...  \n",
       "48493        1.0            wayfeng                   1  \n",
       "48494        1.0  76561198251004808                   2  \n",
       "48495        1.0        72947282842                   0  \n",
       "48496        1.0          ApxLGhost                   1  \n",
       "48497        1.0  76561198267374962                   2  \n",
       "\n",
       "[48498 rows x 6 columns]"
      ]
     },
     "execution_count": 3,
     "metadata": {},
     "output_type": "execute_result"
    }
   ],
   "source": [
    "# Se visualiza el dataframe\n",
    "df_reviews"
   ]
  },
  {
   "cell_type": "markdown",
   "metadata": {},
   "source": [
    "______________"
   ]
  },
  {
   "cell_type": "markdown",
   "metadata": {},
   "source": [
    "### <center>Verificación de tipo de datos y nulos</center>"
   ]
  },
  {
   "cell_type": "code",
   "execution_count": 4,
   "metadata": {},
   "outputs": [
    {
     "data": {
      "text/html": [
       "<div>\n",
       "<style scoped>\n",
       "    .dataframe tbody tr th:only-of-type {\n",
       "        vertical-align: middle;\n",
       "    }\n",
       "\n",
       "    .dataframe tbody tr th {\n",
       "        vertical-align: top;\n",
       "    }\n",
       "\n",
       "    .dataframe thead th {\n",
       "        text-align: right;\n",
       "    }\n",
       "</style>\n",
       "<table border=\"1\" class=\"dataframe\">\n",
       "  <thead>\n",
       "    <tr style=\"text-align: right;\">\n",
       "      <th></th>\n",
       "      <th>Columna</th>\n",
       "      <th>Tipo</th>\n",
       "      <th>NO_nulos_%</th>\n",
       "      <th>Nulos_%</th>\n",
       "      <th>Nulos</th>\n",
       "    </tr>\n",
       "  </thead>\n",
       "  <tbody>\n",
       "    <tr>\n",
       "      <th>0</th>\n",
       "      <td>posted</td>\n",
       "      <td>[&lt;class 'str'&gt;]</td>\n",
       "      <td>100.0</td>\n",
       "      <td>0.0</td>\n",
       "      <td>0</td>\n",
       "    </tr>\n",
       "    <tr>\n",
       "      <th>1</th>\n",
       "      <td>item_id</td>\n",
       "      <td>[&lt;class 'int'&gt;]</td>\n",
       "      <td>100.0</td>\n",
       "      <td>0.0</td>\n",
       "      <td>0</td>\n",
       "    </tr>\n",
       "    <tr>\n",
       "      <th>2</th>\n",
       "      <td>helpful</td>\n",
       "      <td>[&lt;class 'str'&gt;]</td>\n",
       "      <td>100.0</td>\n",
       "      <td>0.0</td>\n",
       "      <td>0</td>\n",
       "    </tr>\n",
       "    <tr>\n",
       "      <th>3</th>\n",
       "      <td>recommend</td>\n",
       "      <td>[&lt;class 'float'&gt;]</td>\n",
       "      <td>100.0</td>\n",
       "      <td>0.0</td>\n",
       "      <td>0</td>\n",
       "    </tr>\n",
       "    <tr>\n",
       "      <th>4</th>\n",
       "      <td>user_id</td>\n",
       "      <td>[&lt;class 'str'&gt;]</td>\n",
       "      <td>100.0</td>\n",
       "      <td>0.0</td>\n",
       "      <td>0</td>\n",
       "    </tr>\n",
       "    <tr>\n",
       "      <th>5</th>\n",
       "      <td>sentiment_analysis</td>\n",
       "      <td>[&lt;class 'int'&gt;]</td>\n",
       "      <td>100.0</td>\n",
       "      <td>0.0</td>\n",
       "      <td>0</td>\n",
       "    </tr>\n",
       "  </tbody>\n",
       "</table>\n",
       "</div>"
      ],
      "text/plain": [
       "              Columna               Tipo  NO_nulos_%  Nulos_%  Nulos\n",
       "0              posted    [<class 'str'>]       100.0      0.0      0\n",
       "1             item_id    [<class 'int'>]       100.0      0.0      0\n",
       "2             helpful    [<class 'str'>]       100.0      0.0      0\n",
       "3           recommend  [<class 'float'>]       100.0      0.0      0\n",
       "4             user_id    [<class 'str'>]       100.0      0.0      0\n",
       "5  sentiment_analysis    [<class 'int'>]       100.0      0.0      0"
      ]
     },
     "execution_count": 4,
     "metadata": {},
     "output_type": "execute_result"
    }
   ],
   "source": [
    "# Se utiliza la funcion creada para la validadción de los datos\n",
    "funciones.verificar_tipo_datos(df_reviews)"
   ]
  },
  {
   "cell_type": "markdown",
   "metadata": {},
   "source": [
    "________________"
   ]
  },
  {
   "cell_type": "markdown",
   "metadata": {},
   "source": [
    "### <center>Columna posted</center>\n",
    "<center>Se analiza la cantidad de reviews por fecha cargada</center>"
   ]
  },
  {
   "cell_type": "code",
   "execution_count": 5,
   "metadata": {},
   "outputs": [
    {
     "name": "stdout",
     "output_type": "stream",
     "text": [
      "Todas las fechas en la columna 'posted' tienen un año válido.\n"
     ]
    }
   ],
   "source": [
    "# Se convierte la columna 'posted' a objetos datetime\n",
    "df_reviews['posted'] = pd.to_datetime(df_reviews['posted'], errors='coerce')\n",
    "\n",
    "# Se verifica si hay fechas sin año (NaN representa fechas inválidas)\n",
    "fechas_sin_year = df_reviews['posted'][df_reviews['posted'].dt.year.isna()]\n",
    "\n",
    "# se muestra las fechas sin año, si las hay\n",
    "if not fechas_sin_year.empty:\n",
    "    print(\"Existen fechas sin año en la columna 'posted':\")\n",
    "    print(fechas_sin_year)\n",
    "else:\n",
    "    print(\"Todas las fechas en la columna 'posted' tienen un año válido.\")"
   ]
  },
  {
   "cell_type": "code",
   "execution_count": 6,
   "metadata": {},
   "outputs": [
    {
     "name": "stdout",
     "output_type": "stream",
     "text": [
      "Las fechas en 'posted' van desde el año 2010 hasta el año 2015.\n"
     ]
    }
   ],
   "source": [
    "# Se convierte la columna 'posted' a objetos datetime\n",
    "df_reviews['posted'] = pd.to_datetime(df_reviews['posted'], errors='coerce')\n",
    "\n",
    "# Se encuentra el rango de años\n",
    "year_minimo = df_reviews['posted'].dt.year.min()\n",
    "year_maximo = df_reviews['posted'].dt.year.max()\n",
    "\n",
    "# Se muestra el rango de años\n",
    "print(f\"Las fechas en 'posted' van desde el año {year_minimo} hasta el año {year_maximo}.\")\n"
   ]
  },
  {
   "cell_type": "code",
   "execution_count": 7,
   "metadata": {},
   "outputs": [
    {
     "data": {
      "image/png": "[encoded data removed]",
      "text/plain": [
       "<Figure size 1200x600 with 1 Axes>"
      ]
     },
     "metadata": {},
     "output_type": "display_data"
    }
   ],
   "source": [
    "# Se verifica que se convirtió'posted' a objetos datetime\n",
    "df_reviews['posted'] = pd.to_datetime(df_reviews['posted'], errors='coerce')\n",
    "\n",
    "# Se agrupa por fecha y cuenta el número de reviews para cada fecha\n",
    "reviews_por_fecha = df_reviews.groupby(df_reviews['posted'].dt.date).size()\n",
    "\n",
    "# Se grafica el número de reviews por fecha sin puntos\n",
    "plt.figure(figsize=(12, 6))\n",
    "plt.plot(reviews_por_fecha.index, reviews_por_fecha.values, linestyle='-', marker='', color='b')\n",
    "plt.title('Número de Reviews por Fecha')\n",
    "plt.xlabel('Fecha')\n",
    "plt.ylabel('Número de Reviews')\n",
    "plt.grid(True)\n",
    "plt.show()\n"
   ]
  },
  {
   "cell_type": "markdown",
   "metadata": {},
   "source": [
    "### Conclusión: Se observa una cantidad de reviews por día baja los primeros 3 años, ya en los 2 años siguientes aumenta considerablemente. Habiendo un pico importante entre el año 2014 y 2016"
   ]
  },
  {
   "cell_type": "markdown",
   "metadata": {},
   "source": [
    "___________________"
   ]
  },
  {
   "cell_type": "markdown",
   "metadata": {},
   "source": [
    "### <center>Columna recomend</center>\n",
    "<center>Se analiza si se recomiendan o no los juegos</center>"
   ]
  },
  {
   "cell_type": "code",
   "execution_count": 8,
   "metadata": {},
   "outputs": [
    {
     "data": {
      "text/html": [
       "<div>\n",
       "<style scoped>\n",
       "    .dataframe tbody tr th:only-of-type {\n",
       "        vertical-align: middle;\n",
       "    }\n",
       "\n",
       "    .dataframe tbody tr th {\n",
       "        vertical-align: top;\n",
       "    }\n",
       "\n",
       "    .dataframe thead th {\n",
       "        text-align: right;\n",
       "    }\n",
       "</style>\n",
       "<table border=\"1\" class=\"dataframe\">\n",
       "  <thead>\n",
       "    <tr style=\"text-align: right;\">\n",
       "      <th></th>\n",
       "      <th>Cantidad</th>\n",
       "      <th>Porcentaje</th>\n",
       "    </tr>\n",
       "    <tr>\n",
       "      <th>recommend</th>\n",
       "      <th></th>\n",
       "      <th></th>\n",
       "    </tr>\n",
       "  </thead>\n",
       "  <tbody>\n",
       "    <tr>\n",
       "      <th>1.0</th>\n",
       "      <td>43557</td>\n",
       "      <td>89.81%</td>\n",
       "    </tr>\n",
       "    <tr>\n",
       "      <th>0.0</th>\n",
       "      <td>4941</td>\n",
       "      <td>10.19%</td>\n",
       "    </tr>\n",
       "  </tbody>\n",
       "</table>\n",
       "</div>"
      ],
      "text/plain": [
       "           Cantidad Porcentaje\n",
       "recommend                     \n",
       "1.0           43557     89.81%\n",
       "0.0            4941     10.19%"
      ]
     },
     "execution_count": 8,
     "metadata": {},
     "output_type": "execute_result"
    }
   ],
   "source": [
    "# Se verifica la cantidad de ocurrencia de cada valor y su porcentaje\n",
    "funciones.valor_en_porcentaje(df_reviews, 'recommend')"
   ]
  },
  {
   "cell_type": "markdown",
   "metadata": {},
   "source": [
    "GRAFICAMOS"
   ]
  },
  {
   "cell_type": "code",
   "execution_count": 14,
   "metadata": {},
   "outputs": [
    {
     "data": {
      "image/png": "[encoded data removed]",
      "text/plain": [
       "<Figure size 400x300 with 1 Axes>"
      ]
     },
     "metadata": {},
     "output_type": "display_data"
    }
   ],
   "source": [
    "# Se agrupa por el valor en la columna 'recommend' y se cuenta la cantidad de registros\n",
    "recomend_counts = df_reviews['recommend'].value_counts()\n",
    "\n",
    "# Se calcula el porcentaje de cada valor\n",
    "recomend_percentages = recomend_counts / recomend_counts.sum() * 100\n",
    "\n",
    "# Colores diferentes para cada valor en 'recommend'\n",
    "recomend_colores = ['lightcoral', 'lightgreen']\n",
    "\n",
    "# Se grafica el porcentaje de recomendaciones\n",
    "plt.figure(figsize=(4, 3))\n",
    "ax_recomend = recomend_percentages.plot(kind='bar', color=recomend_colores)\n",
    "plt.title('Porcentaje de Recomendaciones')\n",
    "plt.xlabel('Valor de Recomendación')\n",
    "plt.ylabel('Porcentaje')\n",
    "plt.ylim(0, 100)  \n",
    "plt.xticks(rotation=0)  \n",
    "\n",
    "# Se agrega el símbolo '%' \n",
    "for p in ax_recomend.patches:\n",
    "    ax_recomend.annotate(f'{p.get_height():.2f}%', (p.get_x() + p.get_width() / 2., p.get_height()),\n",
    "                         ha='center', va='center', xytext=(0, 10), textcoords='offset points')\n",
    "\n",
    "plt.show()\n"
   ]
  },
  {
   "cell_type": "markdown",
   "metadata": {},
   "source": [
    "### Conclusión: el casi 90% recomiendan los juegos que consumen"
   ]
  },
  {
   "cell_type": "markdown",
   "metadata": {},
   "source": [
    "______________"
   ]
  },
  {
   "cell_type": "markdown",
   "metadata": {},
   "source": [
    "### <center>Columna sentiment_analysis</center>\n",
    "<center>Se analiza los 3 valores que toma este campo</center>"
   ]
  },
  {
   "cell_type": "code",
   "execution_count": 10,
   "metadata": {},
   "outputs": [
    {
     "data": {
      "text/html": [
       "<div>\n",
       "<style scoped>\n",
       "    .dataframe tbody tr th:only-of-type {\n",
       "        vertical-align: middle;\n",
       "    }\n",
       "\n",
       "    .dataframe tbody tr th {\n",
       "        vertical-align: top;\n",
       "    }\n",
       "\n",
       "    .dataframe thead th {\n",
       "        text-align: right;\n",
       "    }\n",
       "</style>\n",
       "<table border=\"1\" class=\"dataframe\">\n",
       "  <thead>\n",
       "    <tr style=\"text-align: right;\">\n",
       "      <th></th>\n",
       "      <th>Cantidad</th>\n",
       "      <th>Porcentaje</th>\n",
       "    </tr>\n",
       "    <tr>\n",
       "      <th>sentiment_analysis</th>\n",
       "      <th></th>\n",
       "      <th></th>\n",
       "    </tr>\n",
       "  </thead>\n",
       "  <tbody>\n",
       "    <tr>\n",
       "      <th>1</th>\n",
       "      <td>29456</td>\n",
       "      <td>60.74%</td>\n",
       "    </tr>\n",
       "    <tr>\n",
       "      <th>2</th>\n",
       "      <td>14895</td>\n",
       "      <td>30.71%</td>\n",
       "    </tr>\n",
       "    <tr>\n",
       "      <th>0</th>\n",
       "      <td>4147</td>\n",
       "      <td>8.55%</td>\n",
       "    </tr>\n",
       "  </tbody>\n",
       "</table>\n",
       "</div>"
      ],
      "text/plain": [
       "                    Cantidad Porcentaje\n",
       "sentiment_analysis                     \n",
       "1                      29456     60.74%\n",
       "2                      14895     30.71%\n",
       "0                       4147      8.55%"
      ]
     },
     "execution_count": 10,
     "metadata": {},
     "output_type": "execute_result"
    }
   ],
   "source": [
    "# Se verifican los valores y ocurrencias\n",
    "funciones.valor_en_porcentaje(df_reviews, 'sentiment_analysis')"
   ]
  },
  {
   "cell_type": "markdown",
   "metadata": {},
   "source": [
    "GRAFICAMOS"
   ]
  },
  {
   "cell_type": "code",
   "execution_count": 16,
   "metadata": {},
   "outputs": [
    {
     "data": {
      "image/png": "[encoded data removed]",
      "text/plain": [
       "<Figure size 400x300 with 1 Axes>"
      ]
     },
     "metadata": {},
     "output_type": "display_data"
    }
   ],
   "source": [
    "# Se mapea los valores numéricos a etiquetas descriptivas\n",
    "etiquetas_descriptivas = {0: '0:Malo', 1: '1:Neutral', 2: '2:Positivo'}\n",
    "df_reviews['sentiment_labels'] = df_reviews['sentiment_analysis'].map(etiquetas_descriptivas)\n",
    "\n",
    "# Se agrupa por el valor en la columna 'sentiment_labels' y contar la cantidad de registros\n",
    "sentiment_counts = df_reviews['sentiment_labels'].value_counts()\n",
    "\n",
    "# Se calcula el porcentaje de cada valor\n",
    "sentiment_percentages = sentiment_counts / sentiment_counts.sum() * 100\n",
    "\n",
    "# Colores diferentes para cada etiqueta\n",
    "colores = ['lightcoral', 'lightgray', 'lightgreen']\n",
    "\n",
    "# Se graficar el porcentaje de análisis de sentimiento\n",
    "plt.figure(figsize=(4, 3))\n",
    "ax = sentiment_percentages.plot(kind='bar', color=colores)\n",
    "plt.title('Porcentaje de Análisis de Sentimiento')\n",
    "plt.xlabel('Valor de Sentimiento')\n",
    "plt.ylabel('Porcentaje')\n",
    "plt.ylim(0, 100)  # Ajusta el rango del eje y si es necesario\n",
    "plt.xticks(rotation=0)  # Ajusta la rotación de las etiquetas del eje x si es necesario\n",
    "\n",
    "# Se agregar el símbolo '%' dentro de las barras\n",
    "for p in ax.patches:\n",
    "    ax.annotate(f'{p.get_height():.2f}%', (p.get_x() + p.get_width() / 2., p.get_height()),\n",
    "                ha='center', va='center', xytext=(0, 10), textcoords='offset points')\n",
    "\n",
    "# Se muestra etiquetas descriptivas en el eje x\n",
    "ax.set_xticklabels(sentiment_percentages.index)\n",
    "\n",
    "plt.show()\n",
    "\n"
   ]
  },
  {
   "cell_type": "markdown",
   "metadata": {},
   "source": [
    "### Conclusión: \n",
    "-   61% de los reviews reflejan sentimientos neutrales hacia el uego\n",
    "-   30% reflejan sentimientos positivos hacia el juego \n",
    "-   < 9% fue sentimiento negativo al juego. "
   ]
  },
  {
   "cell_type": "markdown",
   "metadata": {},
   "source": [
    "___________\n",
    "__________"
   ]
  }
 ],
 "metadata": {
  "kernelspec": {
   "display_name": "Python 3",
   "language": "python",
   "name": "python3"
  },
  "language_info": {
   "codemirror_mode": {
    "name": "ipython",
    "version": 3
   },
   "file_extension": ".py",
   "mimetype": "text/x-python",
   "name": "python",
   "nbconvert_exporter": "python",
   "pygments_lexer": "ipython3",
   "version": "3.11.6"
  }
 },
 "nbformat": 4,
 "nbformat_minor": 2
}
